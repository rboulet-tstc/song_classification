{
 "cells": [
  {
   "attachments": {},
   "cell_type": "markdown",
   "metadata": {},
   "source": [
    "# Lyrics NLP Classification\n",
    "### Attempting to identify the artist that sang the song based on the lyrics. "
   ]
  },
  {
   "cell_type": "code",
   "execution_count": 1,
   "metadata": {},
   "outputs": [],
   "source": [
    "import pandas as pd"
   ]
  },
  {
   "cell_type": "markdown",
   "metadata": {},
   "source": [
    "# EDA"
   ]
  },
  {
   "cell_type": "code",
   "execution_count": 2,
   "metadata": {},
   "outputs": [
    {
     "data": {
      "text/html": [
       "<div>\n",
       "<style scoped>\n",
       "    .dataframe tbody tr th:only-of-type {\n",
       "        vertical-align: middle;\n",
       "    }\n",
       "\n",
       "    .dataframe tbody tr th {\n",
       "        vertical-align: top;\n",
       "    }\n",
       "\n",
       "    .dataframe thead th {\n",
       "        text-align: right;\n",
       "    }\n",
       "</style>\n",
       "<table border=\"1\" class=\"dataframe\">\n",
       "  <thead>\n",
       "    <tr style=\"text-align: right;\">\n",
       "      <th></th>\n",
       "      <th>artist</th>\n",
       "      <th>song</th>\n",
       "      <th>link</th>\n",
       "      <th>text</th>\n",
       "    </tr>\n",
       "  </thead>\n",
       "  <tbody>\n",
       "    <tr>\n",
       "      <th>0</th>\n",
       "      <td>ABBA</td>\n",
       "      <td>Ahe's My Kind Of Girl</td>\n",
       "      <td>/a/abba/ahes+my+kind+of+girl_20598417.html</td>\n",
       "      <td>Look at her face, it's a wonderful face  \\r\\nA...</td>\n",
       "    </tr>\n",
       "    <tr>\n",
       "      <th>1</th>\n",
       "      <td>ABBA</td>\n",
       "      <td>Andante, Andante</td>\n",
       "      <td>/a/abba/andante+andante_20002708.html</td>\n",
       "      <td>Take it easy with me, please  \\r\\nTouch me gen...</td>\n",
       "    </tr>\n",
       "    <tr>\n",
       "      <th>2</th>\n",
       "      <td>ABBA</td>\n",
       "      <td>As Good As New</td>\n",
       "      <td>/a/abba/as+good+as+new_20003033.html</td>\n",
       "      <td>I'll never know why I had to go  \\r\\nWhy I had...</td>\n",
       "    </tr>\n",
       "    <tr>\n",
       "      <th>3</th>\n",
       "      <td>ABBA</td>\n",
       "      <td>Bang</td>\n",
       "      <td>/a/abba/bang_20598415.html</td>\n",
       "      <td>Making somebody happy is a question of give an...</td>\n",
       "    </tr>\n",
       "    <tr>\n",
       "      <th>4</th>\n",
       "      <td>ABBA</td>\n",
       "      <td>Bang-A-Boomerang</td>\n",
       "      <td>/a/abba/bang+a+boomerang_20002668.html</td>\n",
       "      <td>Making somebody happy is a question of give an...</td>\n",
       "    </tr>\n",
       "    <tr>\n",
       "      <th>...</th>\n",
       "      <td>...</td>\n",
       "      <td>...</td>\n",
       "      <td>...</td>\n",
       "      <td>...</td>\n",
       "    </tr>\n",
       "    <tr>\n",
       "      <th>57645</th>\n",
       "      <td>Ziggy Marley</td>\n",
       "      <td>Good Old Days</td>\n",
       "      <td>/z/ziggy+marley/good+old+days_10198588.html</td>\n",
       "      <td>Irie days come on play  \\r\\nLet the angels fly...</td>\n",
       "    </tr>\n",
       "    <tr>\n",
       "      <th>57646</th>\n",
       "      <td>Ziggy Marley</td>\n",
       "      <td>Hand To Mouth</td>\n",
       "      <td>/z/ziggy+marley/hand+to+mouth_20531167.html</td>\n",
       "      <td>Power to the workers  \\r\\nMore power  \\r\\nPowe...</td>\n",
       "    </tr>\n",
       "    <tr>\n",
       "      <th>57647</th>\n",
       "      <td>Zwan</td>\n",
       "      <td>Come With Me</td>\n",
       "      <td>/z/zwan/come+with+me_20148981.html</td>\n",
       "      <td>all you need  \\r\\nis something i'll believe  \\...</td>\n",
       "    </tr>\n",
       "    <tr>\n",
       "      <th>57648</th>\n",
       "      <td>Zwan</td>\n",
       "      <td>Desire</td>\n",
       "      <td>/z/zwan/desire_20148986.html</td>\n",
       "      <td>northern star  \\r\\nam i frightened  \\r\\nwhere ...</td>\n",
       "    </tr>\n",
       "    <tr>\n",
       "      <th>57649</th>\n",
       "      <td>Zwan</td>\n",
       "      <td>Heartsong</td>\n",
       "      <td>/z/zwan/heartsong_20148991.html</td>\n",
       "      <td>come in  \\r\\nmake yourself at home  \\r\\ni'm a ...</td>\n",
       "    </tr>\n",
       "  </tbody>\n",
       "</table>\n",
       "<p>57650 rows × 4 columns</p>\n",
       "</div>"
      ],
      "text/plain": [
       "             artist                   song  \\\n",
       "0              ABBA  Ahe's My Kind Of Girl   \n",
       "1              ABBA       Andante, Andante   \n",
       "2              ABBA         As Good As New   \n",
       "3              ABBA                   Bang   \n",
       "4              ABBA       Bang-A-Boomerang   \n",
       "...             ...                    ...   \n",
       "57645  Ziggy Marley          Good Old Days   \n",
       "57646  Ziggy Marley          Hand To Mouth   \n",
       "57647          Zwan           Come With Me   \n",
       "57648          Zwan                 Desire   \n",
       "57649          Zwan              Heartsong   \n",
       "\n",
       "                                              link  \\\n",
       "0       /a/abba/ahes+my+kind+of+girl_20598417.html   \n",
       "1            /a/abba/andante+andante_20002708.html   \n",
       "2             /a/abba/as+good+as+new_20003033.html   \n",
       "3                       /a/abba/bang_20598415.html   \n",
       "4           /a/abba/bang+a+boomerang_20002668.html   \n",
       "...                                            ...   \n",
       "57645  /z/ziggy+marley/good+old+days_10198588.html   \n",
       "57646  /z/ziggy+marley/hand+to+mouth_20531167.html   \n",
       "57647           /z/zwan/come+with+me_20148981.html   \n",
       "57648                 /z/zwan/desire_20148986.html   \n",
       "57649              /z/zwan/heartsong_20148991.html   \n",
       "\n",
       "                                                    text  \n",
       "0      Look at her face, it's a wonderful face  \\r\\nA...  \n",
       "1      Take it easy with me, please  \\r\\nTouch me gen...  \n",
       "2      I'll never know why I had to go  \\r\\nWhy I had...  \n",
       "3      Making somebody happy is a question of give an...  \n",
       "4      Making somebody happy is a question of give an...  \n",
       "...                                                  ...  \n",
       "57645  Irie days come on play  \\r\\nLet the angels fly...  \n",
       "57646  Power to the workers  \\r\\nMore power  \\r\\nPowe...  \n",
       "57647  all you need  \\r\\nis something i'll believe  \\...  \n",
       "57648  northern star  \\r\\nam i frightened  \\r\\nwhere ...  \n",
       "57649  come in  \\r\\nmake yourself at home  \\r\\ni'm a ...  \n",
       "\n",
       "[57650 rows x 4 columns]"
      ]
     },
     "execution_count": 2,
     "metadata": {},
     "output_type": "execute_result"
    }
   ],
   "source": [
    "# Import dataset. Setting types now to avoid bugs later.\n",
    "all_songs = pd.read_csv(filepath_or_buffer = 'spotify_millsongdata.csv',\n",
    "                        dtype = {'artist': str, 'song': str, 'link':str, 'text':str})\n",
    "all_songs"
   ]
  },
  {
   "cell_type": "code",
   "execution_count": 3,
   "metadata": {},
   "outputs": [
    {
     "data": {
      "text/html": [
       "<div>\n",
       "<style scoped>\n",
       "    .dataframe tbody tr th:only-of-type {\n",
       "        vertical-align: middle;\n",
       "    }\n",
       "\n",
       "    .dataframe tbody tr th {\n",
       "        vertical-align: top;\n",
       "    }\n",
       "\n",
       "    .dataframe thead th {\n",
       "        text-align: right;\n",
       "    }\n",
       "</style>\n",
       "<table border=\"1\" class=\"dataframe\">\n",
       "  <thead>\n",
       "    <tr style=\"text-align: right;\">\n",
       "      <th></th>\n",
       "      <th>artist</th>\n",
       "      <th>song</th>\n",
       "      <th>text</th>\n",
       "    </tr>\n",
       "  </thead>\n",
       "  <tbody>\n",
       "    <tr>\n",
       "      <th>0</th>\n",
       "      <td>ABBA</td>\n",
       "      <td>Ahe's My Kind Of Girl</td>\n",
       "      <td>Look at her face, it's a wonderful face  \\r\\nA...</td>\n",
       "    </tr>\n",
       "    <tr>\n",
       "      <th>1</th>\n",
       "      <td>ABBA</td>\n",
       "      <td>Andante, Andante</td>\n",
       "      <td>Take it easy with me, please  \\r\\nTouch me gen...</td>\n",
       "    </tr>\n",
       "    <tr>\n",
       "      <th>2</th>\n",
       "      <td>ABBA</td>\n",
       "      <td>As Good As New</td>\n",
       "      <td>I'll never know why I had to go  \\r\\nWhy I had...</td>\n",
       "    </tr>\n",
       "    <tr>\n",
       "      <th>3</th>\n",
       "      <td>ABBA</td>\n",
       "      <td>Bang</td>\n",
       "      <td>Making somebody happy is a question of give an...</td>\n",
       "    </tr>\n",
       "    <tr>\n",
       "      <th>4</th>\n",
       "      <td>ABBA</td>\n",
       "      <td>Bang-A-Boomerang</td>\n",
       "      <td>Making somebody happy is a question of give an...</td>\n",
       "    </tr>\n",
       "    <tr>\n",
       "      <th>...</th>\n",
       "      <td>...</td>\n",
       "      <td>...</td>\n",
       "      <td>...</td>\n",
       "    </tr>\n",
       "    <tr>\n",
       "      <th>57645</th>\n",
       "      <td>Ziggy Marley</td>\n",
       "      <td>Good Old Days</td>\n",
       "      <td>Irie days come on play  \\r\\nLet the angels fly...</td>\n",
       "    </tr>\n",
       "    <tr>\n",
       "      <th>57646</th>\n",
       "      <td>Ziggy Marley</td>\n",
       "      <td>Hand To Mouth</td>\n",
       "      <td>Power to the workers  \\r\\nMore power  \\r\\nPowe...</td>\n",
       "    </tr>\n",
       "    <tr>\n",
       "      <th>57647</th>\n",
       "      <td>Zwan</td>\n",
       "      <td>Come With Me</td>\n",
       "      <td>all you need  \\r\\nis something i'll believe  \\...</td>\n",
       "    </tr>\n",
       "    <tr>\n",
       "      <th>57648</th>\n",
       "      <td>Zwan</td>\n",
       "      <td>Desire</td>\n",
       "      <td>northern star  \\r\\nam i frightened  \\r\\nwhere ...</td>\n",
       "    </tr>\n",
       "    <tr>\n",
       "      <th>57649</th>\n",
       "      <td>Zwan</td>\n",
       "      <td>Heartsong</td>\n",
       "      <td>come in  \\r\\nmake yourself at home  \\r\\ni'm a ...</td>\n",
       "    </tr>\n",
       "  </tbody>\n",
       "</table>\n",
       "<p>57650 rows × 3 columns</p>\n",
       "</div>"
      ],
      "text/plain": [
       "             artist                   song  \\\n",
       "0              ABBA  Ahe's My Kind Of Girl   \n",
       "1              ABBA       Andante, Andante   \n",
       "2              ABBA         As Good As New   \n",
       "3              ABBA                   Bang   \n",
       "4              ABBA       Bang-A-Boomerang   \n",
       "...             ...                    ...   \n",
       "57645  Ziggy Marley          Good Old Days   \n",
       "57646  Ziggy Marley          Hand To Mouth   \n",
       "57647          Zwan           Come With Me   \n",
       "57648          Zwan                 Desire   \n",
       "57649          Zwan              Heartsong   \n",
       "\n",
       "                                                    text  \n",
       "0      Look at her face, it's a wonderful face  \\r\\nA...  \n",
       "1      Take it easy with me, please  \\r\\nTouch me gen...  \n",
       "2      I'll never know why I had to go  \\r\\nWhy I had...  \n",
       "3      Making somebody happy is a question of give an...  \n",
       "4      Making somebody happy is a question of give an...  \n",
       "...                                                  ...  \n",
       "57645  Irie days come on play  \\r\\nLet the angels fly...  \n",
       "57646  Power to the workers  \\r\\nMore power  \\r\\nPowe...  \n",
       "57647  all you need  \\r\\nis something i'll believe  \\...  \n",
       "57648  northern star  \\r\\nam i frightened  \\r\\nwhere ...  \n",
       "57649  come in  \\r\\nmake yourself at home  \\r\\ni'm a ...  \n",
       "\n",
       "[57650 rows x 3 columns]"
      ]
     },
     "execution_count": 3,
     "metadata": {},
     "output_type": "execute_result"
    }
   ],
   "source": [
    "# Dropping links in the file, not using 'inplace' for this with ipynb in case rerunning cells over.\n",
    "all_songs = all_songs.drop(axis=1, columns='link')\n",
    "all_songs"
   ]
  },
  {
   "cell_type": "code",
   "execution_count": 4,
   "metadata": {},
   "outputs": [
    {
     "name": "stdout",
     "output_type": "stream",
     "text": [
      "<class 'pandas.core.frame.DataFrame'>\n",
      "RangeIndex: 57650 entries, 0 to 57649\n",
      "Data columns (total 3 columns):\n",
      " #   Column  Non-Null Count  Dtype \n",
      "---  ------  --------------  ----- \n",
      " 0   artist  57650 non-null  object\n",
      " 1   song    57650 non-null  object\n",
      " 2   text    57650 non-null  object\n",
      "dtypes: object(3)\n",
      "memory usage: 1.3+ MB\n",
      "None\n"
     ]
    },
    {
     "data": {
      "text/html": [
       "<div>\n",
       "<style scoped>\n",
       "    .dataframe tbody tr th:only-of-type {\n",
       "        vertical-align: middle;\n",
       "    }\n",
       "\n",
       "    .dataframe tbody tr th {\n",
       "        vertical-align: top;\n",
       "    }\n",
       "\n",
       "    .dataframe thead th {\n",
       "        text-align: right;\n",
       "    }\n",
       "</style>\n",
       "<table border=\"1\" class=\"dataframe\">\n",
       "  <thead>\n",
       "    <tr style=\"text-align: right;\">\n",
       "      <th></th>\n",
       "      <th>artist</th>\n",
       "      <th>song</th>\n",
       "      <th>text</th>\n",
       "    </tr>\n",
       "  </thead>\n",
       "  <tbody>\n",
       "    <tr>\n",
       "      <th>count</th>\n",
       "      <td>57650</td>\n",
       "      <td>57650</td>\n",
       "      <td>57650</td>\n",
       "    </tr>\n",
       "    <tr>\n",
       "      <th>unique</th>\n",
       "      <td>643</td>\n",
       "      <td>44824</td>\n",
       "      <td>57494</td>\n",
       "    </tr>\n",
       "    <tr>\n",
       "      <th>top</th>\n",
       "      <td>Donna Summer</td>\n",
       "      <td>Have Yourself A Merry Little Christmas</td>\n",
       "      <td>I just came back from a lovely trip along the ...</td>\n",
       "    </tr>\n",
       "    <tr>\n",
       "      <th>freq</th>\n",
       "      <td>191</td>\n",
       "      <td>35</td>\n",
       "      <td>6</td>\n",
       "    </tr>\n",
       "  </tbody>\n",
       "</table>\n",
       "</div>"
      ],
      "text/plain": [
       "              artist                                    song  \\\n",
       "count          57650                                   57650   \n",
       "unique           643                                   44824   \n",
       "top     Donna Summer  Have Yourself A Merry Little Christmas   \n",
       "freq             191                                      35   \n",
       "\n",
       "                                                     text  \n",
       "count                                               57650  \n",
       "unique                                              57494  \n",
       "top     I just came back from a lovely trip along the ...  \n",
       "freq                                                    6  "
      ]
     },
     "execution_count": 4,
     "metadata": {},
     "output_type": "execute_result"
    }
   ],
   "source": [
    "# Quick one-liner way to check data types. (objects are 'string' objects in python)\n",
    "print(all_songs.info())\n",
    "\n",
    "# Quick one-liner way to profile dataframe.\n",
    "all_songs.describe()\n"
   ]
  },
  {
   "cell_type": "code",
   "execution_count": 5,
   "metadata": {},
   "outputs": [
    {
     "data": {
      "text/plain": [
       "56679    Wishbone Ash\n",
       "224         Aerosmith\n",
       "32457    Fall Out Boy\n",
       "9167     Janis Joplin\n",
       "13270     Moody Blues\n",
       "Name: artist, dtype: object"
      ]
     },
     "execution_count": 5,
     "metadata": {},
     "output_type": "execute_result"
    }
   ],
   "source": [
    "# Get a random sample of 5 artists to use classfication model on. Setting seed to universe to maintain same sample when refreshing.\n",
    "artist_sample = all_songs['artist'].sample(n = 5, random_state=42)\n",
    "artist_sample"
   ]
  },
  {
   "cell_type": "code",
   "execution_count": 6,
   "metadata": {},
   "outputs": [
    {
     "data": {
      "text/plain": [
       "['Wishbone Ash', 'Aerosmith', 'Fall Out Boy', 'Janis Joplin', 'Moody Blues']"
      ]
     },
     "execution_count": 6,
     "metadata": {},
     "output_type": "execute_result"
    }
   ],
   "source": [
    "# Assign random;y sampled artists to list for use later in classification.\n",
    "artists_to_classify = []\n",
    "\n",
    "for artist in artist_sample:\n",
    "    artists_to_classify.append(artist)\n",
    "\n",
    "artists_to_classify"
   ]
  },
  {
   "cell_type": "code",
   "execution_count": 7,
   "metadata": {},
   "outputs": [
    {
     "data": {
      "text/html": [
       "<div>\n",
       "<style scoped>\n",
       "    .dataframe tbody tr th:only-of-type {\n",
       "        vertical-align: middle;\n",
       "    }\n",
       "\n",
       "    .dataframe tbody tr th {\n",
       "        vertical-align: top;\n",
       "    }\n",
       "\n",
       "    .dataframe thead th {\n",
       "        text-align: right;\n",
       "    }\n",
       "</style>\n",
       "<table border=\"1\" class=\"dataframe\">\n",
       "  <thead>\n",
       "    <tr style=\"text-align: right;\">\n",
       "      <th></th>\n",
       "      <th>artist</th>\n",
       "      <th>song</th>\n",
       "      <th>text</th>\n",
       "    </tr>\n",
       "  </thead>\n",
       "  <tbody>\n",
       "    <tr>\n",
       "      <th>145</th>\n",
       "      <td>Aerosmith</td>\n",
       "      <td>All Your Love</td>\n",
       "      <td>All your love I miss lovin'  \\r\\nAll your kiss...</td>\n",
       "    </tr>\n",
       "    <tr>\n",
       "      <th>146</th>\n",
       "      <td>Aerosmith</td>\n",
       "      <td>Bacon Biscuit Blues</td>\n",
       "      <td>Put your biscuits in the oven  \\r\\nHoney, put ...</td>\n",
       "    </tr>\n",
       "    <tr>\n",
       "      <th>147</th>\n",
       "      <td>Aerosmith</td>\n",
       "      <td>Blind Man</td>\n",
       "      <td>I took a course in hallelujah  \\r\\nI went to n...</td>\n",
       "    </tr>\n",
       "    <tr>\n",
       "      <th>148</th>\n",
       "      <td>Aerosmith</td>\n",
       "      <td>Draw The Line</td>\n",
       "      <td>Checkmate honey, beat ya at your own damn game...</td>\n",
       "    </tr>\n",
       "    <tr>\n",
       "      <th>149</th>\n",
       "      <td>Aerosmith</td>\n",
       "      <td>Eat The Rich</td>\n",
       "      <td>Well I woke up this morning  \\r\\nOn the wrong ...</td>\n",
       "    </tr>\n",
       "    <tr>\n",
       "      <th>...</th>\n",
       "      <td>...</td>\n",
       "      <td>...</td>\n",
       "      <td>...</td>\n",
       "    </tr>\n",
       "    <tr>\n",
       "      <th>56675</th>\n",
       "      <td>Wishbone Ash</td>\n",
       "      <td>Queen Of Torture</td>\n",
       "      <td>Has anybody seen my baby kickin' around the to...</td>\n",
       "    </tr>\n",
       "    <tr>\n",
       "      <th>56676</th>\n",
       "      <td>Wishbone Ash</td>\n",
       "      <td>Rainstorm</td>\n",
       "      <td>I'm amazed at the way you do,  \\r\\nYou do the ...</td>\n",
       "    </tr>\n",
       "    <tr>\n",
       "      <th>56677</th>\n",
       "      <td>Wishbone Ash</td>\n",
       "      <td>Renegade</td>\n",
       "      <td>I can't tell you, mother, why I feel this way....</td>\n",
       "    </tr>\n",
       "    <tr>\n",
       "      <th>56678</th>\n",
       "      <td>Wishbone Ash</td>\n",
       "      <td>Rest In Peace</td>\n",
       "      <td>Last night i had a dream  \\r\\nA vision in the ...</td>\n",
       "    </tr>\n",
       "    <tr>\n",
       "      <th>56679</th>\n",
       "      <td>Wishbone Ash</td>\n",
       "      <td>Right Or Wrong</td>\n",
       "      <td>Like to have you 'round  \\r\\nWith all the lies...</td>\n",
       "    </tr>\n",
       "  </tbody>\n",
       "</table>\n",
       "<p>650 rows × 3 columns</p>\n",
       "</div>"
      ],
      "text/plain": [
       "             artist                 song  \\\n",
       "145       Aerosmith        All Your Love   \n",
       "146       Aerosmith  Bacon Biscuit Blues   \n",
       "147       Aerosmith            Blind Man   \n",
       "148       Aerosmith        Draw The Line   \n",
       "149       Aerosmith         Eat The Rich   \n",
       "...             ...                  ...   \n",
       "56675  Wishbone Ash     Queen Of Torture   \n",
       "56676  Wishbone Ash            Rainstorm   \n",
       "56677  Wishbone Ash             Renegade   \n",
       "56678  Wishbone Ash        Rest In Peace   \n",
       "56679  Wishbone Ash       Right Or Wrong   \n",
       "\n",
       "                                                    text  \n",
       "145    All your love I miss lovin'  \\r\\nAll your kiss...  \n",
       "146    Put your biscuits in the oven  \\r\\nHoney, put ...  \n",
       "147    I took a course in hallelujah  \\r\\nI went to n...  \n",
       "148    Checkmate honey, beat ya at your own damn game...  \n",
       "149    Well I woke up this morning  \\r\\nOn the wrong ...  \n",
       "...                                                  ...  \n",
       "56675  Has anybody seen my baby kickin' around the to...  \n",
       "56676  I'm amazed at the way you do,  \\r\\nYou do the ...  \n",
       "56677  I can't tell you, mother, why I feel this way....  \n",
       "56678  Last night i had a dream  \\r\\nA vision in the ...  \n",
       "56679  Like to have you 'round  \\r\\nWith all the lies...  \n",
       "\n",
       "[650 rows x 3 columns]"
      ]
     },
     "execution_count": 7,
     "metadata": {},
     "output_type": "execute_result"
    }
   ],
   "source": [
    "# Get subset of songs based on our artists we randomly selected.\n",
    "songs_subset = all_songs[all_songs['artist'].isin(artists_to_classify)]\n",
    "songs_subset"
   ]
  },
  {
   "cell_type": "code",
   "execution_count": 8,
   "metadata": {},
   "outputs": [
    {
     "data": {
      "text/plain": [
       "Moody Blues     174\n",
       "Aerosmith       171\n",
       "Janis Joplin    106\n",
       "Wishbone Ash    102\n",
       "Fall Out Boy     97\n",
       "Name: artist, dtype: int64"
      ]
     },
     "execution_count": 8,
     "metadata": {},
     "output_type": "execute_result"
    }
   ],
   "source": [
    "# Checking dataset balance.\n",
    "songs_subset['artist'].value_counts()"
   ]
  },
  {
   "cell_type": "code",
   "execution_count": 9,
   "metadata": {},
   "outputs": [
    {
     "data": {
      "text/plain": [
       "Janis Joplin    106\n",
       "Moody Blues     104\n",
       "Aerosmith       103\n",
       "Wishbone Ash    102\n",
       "Fall Out Boy     97\n",
       "Name: artist, dtype: int64"
      ]
     },
     "execution_count": 9,
     "metadata": {},
     "output_type": "execute_result"
    }
   ],
   "source": [
    "# Randomly drop roughly 70 songs from Moodly Blues and Aerosmith from dataframe to balance out.\n",
    "songs_subset = songs_subset.drop(songs_subset.query(\"artist == 'Moody Blues'\").sample(frac=0.4).index)\n",
    "songs_subset = songs_subset.drop(songs_subset.query(\"artist == 'Aerosmith'\").sample(frac=0.4).index)\n",
    "\n",
    "songs_subset['artist'].value_counts()\n"
   ]
  },
  {
   "cell_type": "markdown",
   "metadata": {},
   "source": [
    "### Profiling the lyrics of each artist to get rough idea of any outliers/repeats in specific words used (not necessary but curious).\n"
   ]
  },
  {
   "cell_type": "code",
   "execution_count": 10,
   "metadata": {},
   "outputs": [],
   "source": [
    "# Adding all unique words in each artist's songs to their own lists.\n",
    "joplin_lyrics = songs_subset[songs_subset['artist'] == 'Janis Joplin']['text'].values.tolist()\n",
    "moody_lyrics = songs_subset[songs_subset['artist'] == 'Moody Blues']['text'].values.tolist()\n",
    "aero_lyrics = songs_subset[songs_subset['artist'] == 'Aerosmith']['text'].values.tolist()\n",
    "wishbone_lyrics = songs_subset[songs_subset['artist'] == 'Wishbone Ash']['text'].values.tolist()\n",
    "fob_lyrics = songs_subset[songs_subset['artist'] == 'Fall Out Boy']['text'].values.tolist()"
   ]
  },
  {
   "cell_type": "markdown",
   "metadata": {},
   "source": [
    "### Need to be careful after if using these for classification since I am not positive these are grouped as single songs, or parts of songs that were split up by breaks."
   ]
  },
  {
   "cell_type": "code",
   "execution_count": 11,
   "metadata": {},
   "outputs": [],
   "source": [
    "# Checking to see if lyrics were split up or not when assigned to list.\n",
    "#songs_subset[songs_subset['artist'] == 'Janis Joplin'].values[0]"
   ]
  },
  {
   "cell_type": "markdown",
   "metadata": {},
   "source": [
    "### Lyrics look to be split and joined by individual songs in list, so list ok for song-specific classification, but will verify other samples later."
   ]
  },
  {
   "cell_type": "markdown",
   "metadata": {},
   "source": [
    "### Need to extract specific words from objects in lyric lists, currently grouped by quotation marks. "
   ]
  },
  {
   "cell_type": "code",
   "execution_count": 12,
   "metadata": {},
   "outputs": [
    {
     "data": {
      "text/plain": [
       "\"A woman left lonely will soon grow tired of waiting,  \\r\\nShe'll do crazy things, yeah, on lonely occasions.  \\r\\nA simple conversation for the new men now and again  \\r\\nMakes a touchy situation when a good face come into your head.  \\r\\nAnd when she gets lonely, she's thinking 'bout her man,  \\r\\nShe knows he's taking her for granted, yeah yeah,  \\r\\nHoney, she doesn't understand, no no no no!  \\r\\n  \\r\\nWell, the fevers of the night, they burn an unloved woman  \\r\\nYeah, those red-hot flames try to push old love aside.  \\r\\nA woman left lonely, she's the victim of her man, yes she is.  \\r\\nWhen he can't keep up his own way, good Lord,  \\r\\nShe's got to do the best that she can, yeah!  \\r\\nA woman left lonely, Lord, that lonely girl,  \\r\\nLord, Lord, Lord!\\r\\n\\r\\n\""
      ]
     },
     "execution_count": 12,
     "metadata": {},
     "output_type": "execute_result"
    }
   ],
   "source": [
    "joplin_lyrics[0]"
   ]
  },
  {
   "cell_type": "code",
   "execution_count": 13,
   "metadata": {},
   "outputs": [
    {
     "name": "stderr",
     "output_type": "stream",
     "text": [
      "[nltk_data] Downloading package stopwords to\n",
      "[nltk_data]     C:\\Users\\rboulet.TOTALSYSTECH\\AppData\\Roaming\\nltk_dat\n",
      "[nltk_data]     a...\n",
      "[nltk_data]   Package stopwords is already up-to-date!\n"
     ]
    }
   ],
   "source": [
    "# Move to top for cleanup of NB. \n",
    "# Importing the stop words list to clean up the lyrics and get rid of words that lack meaning to song. Download of stop words required.\n",
    "import nltk\n",
    "from nltk.corpus import stopwords\n",
    "nltk.download('stopwords')\n",
    "\n",
    "# Assigning stop words as obj for use later.\n",
    "stop_words = set(stopwords.words('english'))\n",
    "\n",
    "\"\"\" Split, clean and append function for lists of lyrics. \n",
    "    1. Initial list of words that are split from the sentences in the lyrics of each song.\n",
    "    2. Use the previous list to iterate over each word contained and drop non-alphanumeric characters.\n",
    "    3. Changing all words to lowercase for use with the stop words that were downloaded. Stop words in nltk are all lowercase so need to match case.\n",
    "    4. Check the cleaned word against the stop words list, and if it is not, append word to final words list.\n",
    "\"\"\"\n",
    "def split_append_words(lyrics: list):\n",
    "    \n",
    "    # Splitting each word from each indiv song, with all characters, and appending to new list.\n",
    "    word_list = []\n",
    "    for song in lyrics:\n",
    "        for word in ''.join(song).split():\n",
    "            word_list.append(word)\n",
    "\n",
    "    # Cleaning each word from the list we pass, and appending to new final list.\n",
    "    final_list = []\n",
    "    for word in word_list:\n",
    "        word_cleaned = ''.join(character for character in word if character.isalnum())\n",
    "        \n",
    "        # Changing words to lowercase and reassigning. Will most likely need to do this later anyways.\n",
    "        word_cleaned = word_cleaned.lower()\n",
    "        # Including the word in the final list if it is not a stop word (and, or, pronouns, etc). Also limiting size for now automatically, even if not in stop word list.\n",
    "        if word_cleaned not in stop_words and len(word_cleaned) > 2:           \n",
    "            final_list.append(word_cleaned)\n",
    "\n",
    "    #return set(final_list)                 # Return a set from the final list in order to get unique list of words for later use. \n",
    "    return final_list                       # Returning list of all words for now for checking ferquency."
   ]
  },
  {
   "cell_type": "code",
   "execution_count": 14,
   "metadata": {},
   "outputs": [],
   "source": [
    "# Assigning lists of individual words to each artist using the split_append function we defined earlier. \n",
    "joplin_words = split_append_words(joplin_lyrics)\n",
    "moody_words = split_append_words(moody_lyrics)\n",
    "aero_words = split_append_words(aero_lyrics)\n",
    "wishbone_words = split_append_words(wishbone_lyrics)\n",
    "fob_words = split_append_words(fob_lyrics)"
   ]
  },
  {
   "cell_type": "code",
   "execution_count": 15,
   "metadata": {},
   "outputs": [],
   "source": [
    "# Move to top for imports.\n",
    "import numpy as np\n",
    "\n",
    "# Get count of each word in artist's list.\n",
    "def value_counts_df(artist_words: list):\n",
    "    # Getting count of words in a series.\n",
    "    word_counts_df = pd.value_counts(np.array(artist_words))\n",
    "\n",
    "    # Converting the series of word counts to dataframe.\n",
    "    word_counts_df = word_counts_df.to_frame()\n",
    "\n",
    "    # Renaming the columns of dataframe, and assigning index (auto stored as strings instead of int) as a column.\n",
    "    # Using .reset_index() instead of assigning the index to a new column since it uses positional \n",
    "    # refrence and can insert in beginning of dataframe (not necessary but organized.)\n",
    "    word_counts_df.reset_index(level=0, inplace=True)\n",
    "    word_counts_df.columns= ['word', 'word_count']\n",
    "\n",
    "    return word_counts_df"
   ]
  },
  {
   "cell_type": "code",
   "execution_count": 16,
   "metadata": {},
   "outputs": [],
   "source": [
    "# Assigning each artist's word counts using the previously defined function. Including artist column for ref later.\n",
    "joplin_word_counts = value_counts_df(joplin_words).assign(artist = 'joplin')\n",
    "moody_word_counts = value_counts_df(moody_words).assign(artist = 'moody')\n",
    "aero_word_counts = value_counts_df(aero_words).assign(artist = 'aero')\n",
    "wishbone_word_counts = value_counts_df(wishbone_words).assign(artist = 'wishbone')\n",
    "fob_word_counts = value_counts_df(fob_words).assign(artist = 'fob')"
   ]
  },
  {
   "cell_type": "markdown",
   "metadata": {},
   "source": [
    "#### Better practice would have been to clear out random characters prior to bouncing against stop words list, contractions are not being accounted for properly and not removed (isnt versus isn't)"
   ]
  },
  {
   "cell_type": "markdown",
   "metadata": {},
   "source": [
    "### Plotting individual artists words to check frequency of each."
   ]
  },
  {
   "cell_type": "code",
   "execution_count": 17,
   "metadata": {},
   "outputs": [
    {
     "data": {
      "image/png": "[encoded data removed]",
      "text/plain": [
       "<Figure size 640x480 with 1 Axes>"
      ]
     },
     "metadata": {},
     "output_type": "display_data"
    }
   ],
   "source": [
    "import matplotlib.pyplot as plt\n",
    "import seaborn as sns\n",
    "sns.set_theme(style=\"whitegrid\")\n",
    "\n",
    "# Plotting using seaborn since I have not used it a ton.\n",
    "sns.barplot(data = joplin_word_counts.nlargest(10, 'word_count'),\n",
    "            x = 'word',\n",
    "            y = 'word_count')\n",
    "\n",
    "# Seaborn uses matplotlib backend so have to call on object with .show() to display results.\n",
    "plt.show()"
   ]
  },
  {
   "cell_type": "markdown",
   "metadata": {},
   "source": [
    "#### The word 'honey' used a lot by Joplin. 'Love' appears to be used frequently by most artists."
   ]
  },
  {
   "cell_type": "code",
   "execution_count": 18,
   "metadata": {},
   "outputs": [
    {
     "data": {
      "image/png": "[encoded data removed]",
      "text/plain": [
       "<Figure size 640x480 with 1 Axes>"
      ]
     },
     "metadata": {},
     "output_type": "display_data"
    }
   ],
   "source": [
    "sns.barplot(data = moody_word_counts.nlargest(10, 'word_count'),\n",
    "            x = 'word',\n",
    "            y = 'word_count')\n",
    "\n",
    "# Seaborn uses matplotlib backend so have to call on object with .show() to display results.\n",
    "plt.show()"
   ]
  },
  {
   "cell_type": "code",
   "execution_count": 19,
   "metadata": {},
   "outputs": [
    {
     "data": {
      "image/png": "[encoded data removed]",
      "text/plain": [
       "<Figure size 640x480 with 1 Axes>"
      ]
     },
     "metadata": {},
     "output_type": "display_data"
    }
   ],
   "source": [
    "sns.barplot(data = aero_word_counts.nlargest(10, 'word_count'),\n",
    "            x = 'word',\n",
    "            y = 'word_count')\n",
    "\n",
    "# Seaborn uses matplotlib backend so have to call on object with .show() to display results.\n",
    "plt.show()"
   ]
  },
  {
   "cell_type": "code",
   "execution_count": 20,
   "metadata": {},
   "outputs": [
    {
     "data": {
      "image/png": "[encoded data removed]",
      "text/plain": [
       "<Figure size 640x480 with 1 Axes>"
      ]
     },
     "metadata": {},
     "output_type": "display_data"
    }
   ],
   "source": [
    "sns.barplot(data = fob_word_counts.nlargest(10, 'word_count'),\n",
    "            x = 'word',\n",
    "            y = 'word_count')\n",
    "\n",
    "# Seaborn uses matplotlib backend so have to call on object with .show() to display results.\n",
    "plt.show()"
   ]
  },
  {
   "cell_type": "markdown",
   "metadata": {},
   "source": [
    "### 'Beat appearing a lot in FOB lyrics."
   ]
  },
  {
   "cell_type": "code",
   "execution_count": 21,
   "metadata": {},
   "outputs": [
    {
     "data": {
      "image/png": "[encoded data removed]",
      "text/plain": [
       "<Figure size 640x480 with 1 Axes>"
      ]
     },
     "metadata": {},
     "output_type": "display_data"
    }
   ],
   "source": [
    "sns.barplot(data = wishbone_word_counts.nlargest(10, 'word_count'),\n",
    "            x = 'word',\n",
    "            y = 'word_count')\n",
    "\n",
    "# Seaborn uses matplotlib backend so have to call on object with .show() to display results.\n",
    "plt.show()"
   ]
  },
  {
   "cell_type": "markdown",
   "metadata": {},
   "source": [
    "### Nothing very substantial standing out from each artist, many of the same words are used across lyrics. We will look across the each artist's unique words that they do NOT share in common. (Still in the EDA phase here, preprocessing later)"
   ]
  },
  {
   "cell_type": "code",
   "execution_count": 22,
   "metadata": {},
   "outputs": [
    {
     "data": {
      "text/html": [
       "<div>\n",
       "<style scoped>\n",
       "    .dataframe tbody tr th:only-of-type {\n",
       "        vertical-align: middle;\n",
       "    }\n",
       "\n",
       "    .dataframe tbody tr th {\n",
       "        vertical-align: top;\n",
       "    }\n",
       "\n",
       "    .dataframe thead th {\n",
       "        text-align: right;\n",
       "    }\n",
       "</style>\n",
       "<table border=\"1\" class=\"dataframe\">\n",
       "  <thead>\n",
       "    <tr style=\"text-align: right;\">\n",
       "      <th></th>\n",
       "      <th>word</th>\n",
       "      <th>word_count</th>\n",
       "      <th>artist</th>\n",
       "    </tr>\n",
       "  </thead>\n",
       "  <tbody>\n",
       "    <tr>\n",
       "      <th>0</th>\n",
       "      <td>baby</td>\n",
       "      <td>418</td>\n",
       "      <td>joplin</td>\n",
       "    </tr>\n",
       "    <tr>\n",
       "      <th>1</th>\n",
       "      <td>yeah</td>\n",
       "      <td>389</td>\n",
       "      <td>joplin</td>\n",
       "    </tr>\n",
       "    <tr>\n",
       "      <th>2</th>\n",
       "      <td>whoa</td>\n",
       "      <td>288</td>\n",
       "      <td>joplin</td>\n",
       "    </tr>\n",
       "    <tr>\n",
       "      <th>3</th>\n",
       "      <td>love</td>\n",
       "      <td>262</td>\n",
       "      <td>joplin</td>\n",
       "    </tr>\n",
       "    <tr>\n",
       "      <th>4</th>\n",
       "      <td>dont</td>\n",
       "      <td>248</td>\n",
       "      <td>joplin</td>\n",
       "    </tr>\n",
       "    <tr>\n",
       "      <th>...</th>\n",
       "      <td>...</td>\n",
       "      <td>...</td>\n",
       "      <td>...</td>\n",
       "    </tr>\n",
       "    <tr>\n",
       "      <th>9968</th>\n",
       "      <td>tact</td>\n",
       "      <td>1</td>\n",
       "      <td>fob</td>\n",
       "    </tr>\n",
       "    <tr>\n",
       "      <th>9969</th>\n",
       "      <td>realize</td>\n",
       "      <td>1</td>\n",
       "      <td>fob</td>\n",
       "    </tr>\n",
       "    <tr>\n",
       "      <th>9970</th>\n",
       "      <td>movies</td>\n",
       "      <td>1</td>\n",
       "      <td>fob</td>\n",
       "    </tr>\n",
       "    <tr>\n",
       "      <th>9971</th>\n",
       "      <td>excuse</td>\n",
       "      <td>1</td>\n",
       "      <td>fob</td>\n",
       "    </tr>\n",
       "    <tr>\n",
       "      <th>9972</th>\n",
       "      <td>rampant</td>\n",
       "      <td>1</td>\n",
       "      <td>fob</td>\n",
       "    </tr>\n",
       "  </tbody>\n",
       "</table>\n",
       "<p>9973 rows × 3 columns</p>\n",
       "</div>"
      ],
      "text/plain": [
       "         word  word_count  artist\n",
       "0        baby         418  joplin\n",
       "1        yeah         389  joplin\n",
       "2        whoa         288  joplin\n",
       "3        love         262  joplin\n",
       "4        dont         248  joplin\n",
       "...       ...         ...     ...\n",
       "9968     tact           1     fob\n",
       "9969  realize           1     fob\n",
       "9970   movies           1     fob\n",
       "9971   excuse           1     fob\n",
       "9972  rampant           1     fob\n",
       "\n",
       "[9973 rows x 3 columns]"
      ]
     },
     "execution_count": 22,
     "metadata": {},
     "output_type": "execute_result"
    }
   ],
   "source": [
    "# Create full dataframe of the artist words.\n",
    "all_artist_lists = [joplin_word_counts, moody_word_counts, aero_word_counts, wishbone_word_counts, fob_word_counts]\n",
    "all_words_list = pd.concat(all_artist_lists, ignore_index=True)\n",
    "\n",
    "all_words_list"
   ]
  },
  {
   "cell_type": "code",
   "execution_count": 23,
   "metadata": {},
   "outputs": [
    {
     "data": {
      "text/html": [
       "<div>\n",
       "<style scoped>\n",
       "    .dataframe tbody tr th:only-of-type {\n",
       "        vertical-align: middle;\n",
       "    }\n",
       "\n",
       "    .dataframe tbody tr th {\n",
       "        vertical-align: top;\n",
       "    }\n",
       "\n",
       "    .dataframe thead th {\n",
       "        text-align: right;\n",
       "    }\n",
       "</style>\n",
       "<table border=\"1\" class=\"dataframe\">\n",
       "  <thead>\n",
       "    <tr style=\"text-align: right;\">\n",
       "      <th></th>\n",
       "      <th>word</th>\n",
       "      <th>word_count</th>\n",
       "      <th>artist</th>\n",
       "    </tr>\n",
       "  </thead>\n",
       "  <tbody>\n",
       "    <tr>\n",
       "      <th>0</th>\n",
       "      <td>baby</td>\n",
       "      <td>418</td>\n",
       "      <td>joplin</td>\n",
       "    </tr>\n",
       "    <tr>\n",
       "      <th>1637</th>\n",
       "      <td>baby</td>\n",
       "      <td>60</td>\n",
       "      <td>moody</td>\n",
       "    </tr>\n",
       "    <tr>\n",
       "      <th>3302</th>\n",
       "      <td>baby</td>\n",
       "      <td>82</td>\n",
       "      <td>aero</td>\n",
       "    </tr>\n",
       "    <tr>\n",
       "      <th>5823</th>\n",
       "      <td>baby</td>\n",
       "      <td>31</td>\n",
       "      <td>wishbone</td>\n",
       "    </tr>\n",
       "    <tr>\n",
       "      <th>7609</th>\n",
       "      <td>baby</td>\n",
       "      <td>64</td>\n",
       "      <td>fob</td>\n",
       "    </tr>\n",
       "  </tbody>\n",
       "</table>\n",
       "</div>"
      ],
      "text/plain": [
       "      word  word_count    artist\n",
       "0     baby         418    joplin\n",
       "1637  baby          60     moody\n",
       "3302  baby          82      aero\n",
       "5823  baby          31  wishbone\n",
       "7609  baby          64       fob"
      ]
     },
     "execution_count": 23,
     "metadata": {},
     "output_type": "execute_result"
    }
   ],
   "source": [
    "all_words_list[all_words_list['word'] == 'baby']"
   ]
  },
  {
   "attachments": {},
   "cell_type": "markdown",
   "metadata": {},
   "source": [
    "### Cannot just take unique words from 'word' column since they are unique single value to each artist, but are common across multiple artists.\n",
    "### Drop duplicates from 'word' column?"
   ]
  },
  {
   "cell_type": "code",
   "execution_count": 24,
   "metadata": {},
   "outputs": [],
   "source": [
    "all_unique_words = all_words_list.drop_duplicates(subset = 'word', keep = False)"
   ]
  },
  {
   "cell_type": "code",
   "execution_count": 25,
   "metadata": {},
   "outputs": [
    {
     "data": {
      "text/html": [
       "<div>\n",
       "<style scoped>\n",
       "    .dataframe tbody tr th:only-of-type {\n",
       "        vertical-align: middle;\n",
       "    }\n",
       "\n",
       "    .dataframe tbody tr th {\n",
       "        vertical-align: top;\n",
       "    }\n",
       "\n",
       "    .dataframe thead th {\n",
       "        text-align: right;\n",
       "    }\n",
       "</style>\n",
       "<table border=\"1\" class=\"dataframe\">\n",
       "  <thead>\n",
       "    <tr style=\"text-align: right;\">\n",
       "      <th></th>\n",
       "      <th>word</th>\n",
       "      <th>word_count</th>\n",
       "      <th>artist</th>\n",
       "    </tr>\n",
       "  </thead>\n",
       "  <tbody>\n",
       "  </tbody>\n",
       "</table>\n",
       "</div>"
      ],
      "text/plain": [
       "Empty DataFrame\n",
       "Columns: [word, word_count, artist]\n",
       "Index: []"
      ]
     },
     "execution_count": 25,
     "metadata": {},
     "output_type": "execute_result"
    }
   ],
   "source": [
    "all_unique_words[all_unique_words['word'] == 'baby']"
   ]
  },
  {
   "attachments": {},
   "cell_type": "markdown",
   "metadata": {},
   "source": [
    "### Need to include 'keep' argument in the .drop_duplicates method to get rid of ALL duplicates and not keep 1st or last."
   ]
  },
  {
   "cell_type": "code",
   "execution_count": 26,
   "metadata": {},
   "outputs": [
    {
     "data": {
      "text/html": [
       "<div>\n",
       "<style scoped>\n",
       "    .dataframe tbody tr th:only-of-type {\n",
       "        vertical-align: middle;\n",
       "    }\n",
       "\n",
       "    .dataframe tbody tr th {\n",
       "        vertical-align: top;\n",
       "    }\n",
       "\n",
       "    .dataframe thead th {\n",
       "        text-align: right;\n",
       "    }\n",
       "</style>\n",
       "<table border=\"1\" class=\"dataframe\">\n",
       "  <thead>\n",
       "    <tr style=\"text-align: right;\">\n",
       "      <th></th>\n",
       "      <th>word</th>\n",
       "      <th>word_count</th>\n",
       "      <th>artist</th>\n",
       "    </tr>\n",
       "  </thead>\n",
       "  <tbody>\n",
       "    <tr>\n",
       "      <th>85</th>\n",
       "      <td>diddley</td>\n",
       "      <td>29</td>\n",
       "      <td>joplin</td>\n",
       "    </tr>\n",
       "    <tr>\n",
       "      <th>112</th>\n",
       "      <td>hon</td>\n",
       "      <td>24</td>\n",
       "      <td>joplin</td>\n",
       "    </tr>\n",
       "    <tr>\n",
       "      <th>118</th>\n",
       "      <td>mary</td>\n",
       "      <td>22</td>\n",
       "      <td>joplin</td>\n",
       "    </tr>\n",
       "    <tr>\n",
       "      <th>133</th>\n",
       "      <td>jane</td>\n",
       "      <td>20</td>\n",
       "      <td>joplin</td>\n",
       "    </tr>\n",
       "    <tr>\n",
       "      <th>154</th>\n",
       "      <td>bobby</td>\n",
       "      <td>17</td>\n",
       "      <td>joplin</td>\n",
       "    </tr>\n",
       "    <tr>\n",
       "      <th>181</th>\n",
       "      <td>careless</td>\n",
       "      <td>14</td>\n",
       "      <td>joplin</td>\n",
       "    </tr>\n",
       "    <tr>\n",
       "      <th>218</th>\n",
       "      <td>francisco</td>\n",
       "      <td>12</td>\n",
       "      <td>joplin</td>\n",
       "    </tr>\n",
       "    <tr>\n",
       "      <th>242</th>\n",
       "      <td>wah</td>\n",
       "      <td>11</td>\n",
       "      <td>joplin</td>\n",
       "    </tr>\n",
       "    <tr>\n",
       "      <th>274</th>\n",
       "      <td>indeed</td>\n",
       "      <td>9</td>\n",
       "      <td>joplin</td>\n",
       "    </tr>\n",
       "    <tr>\n",
       "      <th>277</th>\n",
       "      <td>mcgee</td>\n",
       "      <td>9</td>\n",
       "      <td>joplin</td>\n",
       "    </tr>\n",
       "    <tr>\n",
       "      <th>278</th>\n",
       "      <td>carrot</td>\n",
       "      <td>9</td>\n",
       "      <td>joplin</td>\n",
       "    </tr>\n",
       "    <tr>\n",
       "      <th>284</th>\n",
       "      <td>winin</td>\n",
       "      <td>9</td>\n",
       "      <td>joplin</td>\n",
       "    </tr>\n",
       "    <tr>\n",
       "      <th>289</th>\n",
       "      <td>grabbed</td>\n",
       "      <td>9</td>\n",
       "      <td>joplin</td>\n",
       "    </tr>\n",
       "    <tr>\n",
       "      <th>290</th>\n",
       "      <td>sunday</td>\n",
       "      <td>9</td>\n",
       "      <td>joplin</td>\n",
       "    </tr>\n",
       "    <tr>\n",
       "      <th>299</th>\n",
       "      <td>jetplane</td>\n",
       "      <td>8</td>\n",
       "      <td>joplin</td>\n",
       "    </tr>\n",
       "    <tr>\n",
       "      <th>302</th>\n",
       "      <td>byebye</td>\n",
       "      <td>8</td>\n",
       "      <td>joplin</td>\n",
       "    </tr>\n",
       "    <tr>\n",
       "      <th>305</th>\n",
       "      <td>worryin</td>\n",
       "      <td>8</td>\n",
       "      <td>joplin</td>\n",
       "    </tr>\n",
       "    <tr>\n",
       "      <th>308</th>\n",
       "      <td>botherin</td>\n",
       "      <td>8</td>\n",
       "      <td>joplin</td>\n",
       "    </tr>\n",
       "    <tr>\n",
       "      <th>316</th>\n",
       "      <td>jordan</td>\n",
       "      <td>8</td>\n",
       "      <td>joplin</td>\n",
       "    </tr>\n",
       "    <tr>\n",
       "      <th>322</th>\n",
       "      <td>cuckoo</td>\n",
       "      <td>8</td>\n",
       "      <td>joplin</td>\n",
       "    </tr>\n",
       "  </tbody>\n",
       "</table>\n",
       "</div>"
      ],
      "text/plain": [
       "          word  word_count  artist\n",
       "85     diddley          29  joplin\n",
       "112        hon          24  joplin\n",
       "118       mary          22  joplin\n",
       "133       jane          20  joplin\n",
       "154      bobby          17  joplin\n",
       "181   careless          14  joplin\n",
       "218  francisco          12  joplin\n",
       "242        wah          11  joplin\n",
       "274     indeed           9  joplin\n",
       "277      mcgee           9  joplin\n",
       "278     carrot           9  joplin\n",
       "284      winin           9  joplin\n",
       "289    grabbed           9  joplin\n",
       "290     sunday           9  joplin\n",
       "299   jetplane           8  joplin\n",
       "302     byebye           8  joplin\n",
       "305    worryin           8  joplin\n",
       "308   botherin           8  joplin\n",
       "316     jordan           8  joplin\n",
       "322     cuckoo           8  joplin"
      ]
     },
     "execution_count": 26,
     "metadata": {},
     "output_type": "execute_result"
    }
   ],
   "source": [
    "### Checking indiv artist nuique owrd values and counts.\n",
    "all_unique_words[all_unique_words['artist'] == 'joplin'].nlargest(n = 20, columns = 'word_count')"
   ]
  },
  {
   "attachments": {},
   "cell_type": "markdown",
   "metadata": {},
   "source": [
    "### Findings a little more interesting looking at unique words across all artists, Joplin using 'diddley' 29 times in one or more songs, and 'hon' 24 times. Verify that 'Bobby' and Mcgee' are disproportional in her song."
   ]
  },
  {
   "cell_type": "code",
   "execution_count": 27,
   "metadata": {},
   "outputs": [
    {
     "data": {
      "text/html": [
       "<div>\n",
       "<style scoped>\n",
       "    .dataframe tbody tr th:only-of-type {\n",
       "        vertical-align: middle;\n",
       "    }\n",
       "\n",
       "    .dataframe tbody tr th {\n",
       "        vertical-align: top;\n",
       "    }\n",
       "\n",
       "    .dataframe thead th {\n",
       "        text-align: right;\n",
       "    }\n",
       "</style>\n",
       "<table border=\"1\" class=\"dataframe\">\n",
       "  <thead>\n",
       "    <tr style=\"text-align: right;\">\n",
       "      <th></th>\n",
       "      <th>word</th>\n",
       "      <th>word_count</th>\n",
       "      <th>artist</th>\n",
       "    </tr>\n",
       "  </thead>\n",
       "  <tbody>\n",
       "    <tr>\n",
       "      <th>1704</th>\n",
       "      <td>22000</td>\n",
       "      <td>22</td>\n",
       "      <td>moody</td>\n",
       "    </tr>\n",
       "    <tr>\n",
       "      <th>1753</th>\n",
       "      <td>timothy</td>\n",
       "      <td>16</td>\n",
       "      <td>moody</td>\n",
       "    </tr>\n",
       "    <tr>\n",
       "      <th>1803</th>\n",
       "      <td>winters</td>\n",
       "      <td>12</td>\n",
       "      <td>moody</td>\n",
       "    </tr>\n",
       "    <tr>\n",
       "      <th>1806</th>\n",
       "      <td>leary</td>\n",
       "      <td>12</td>\n",
       "      <td>moody</td>\n",
       "    </tr>\n",
       "    <tr>\n",
       "      <th>1831</th>\n",
       "      <td>evening</td>\n",
       "      <td>11</td>\n",
       "      <td>moody</td>\n",
       "    </tr>\n",
       "    <tr>\n",
       "      <th>1839</th>\n",
       "      <td>finding</td>\n",
       "      <td>11</td>\n",
       "      <td>moody</td>\n",
       "    </tr>\n",
       "    <tr>\n",
       "      <th>1894</th>\n",
       "      <td>gently</td>\n",
       "      <td>8</td>\n",
       "      <td>moody</td>\n",
       "    </tr>\n",
       "    <tr>\n",
       "      <th>1923</th>\n",
       "      <td>turnaround</td>\n",
       "      <td>7</td>\n",
       "      <td>moody</td>\n",
       "    </tr>\n",
       "    <tr>\n",
       "      <th>1927</th>\n",
       "      <td>twilight</td>\n",
       "      <td>7</td>\n",
       "      <td>moody</td>\n",
       "    </tr>\n",
       "    <tr>\n",
       "      <th>1931</th>\n",
       "      <td>wildest</td>\n",
       "      <td>7</td>\n",
       "      <td>moody</td>\n",
       "    </tr>\n",
       "    <tr>\n",
       "      <th>1955</th>\n",
       "      <td>awhile</td>\n",
       "      <td>7</td>\n",
       "      <td>moody</td>\n",
       "    </tr>\n",
       "    <tr>\n",
       "      <th>1981</th>\n",
       "      <td>lightly</td>\n",
       "      <td>6</td>\n",
       "      <td>moody</td>\n",
       "    </tr>\n",
       "    <tr>\n",
       "      <th>1984</th>\n",
       "      <td>diary</td>\n",
       "      <td>6</td>\n",
       "      <td>moody</td>\n",
       "    </tr>\n",
       "    <tr>\n",
       "      <th>2004</th>\n",
       "      <td>gentle</td>\n",
       "      <td>6</td>\n",
       "      <td>moody</td>\n",
       "    </tr>\n",
       "    <tr>\n",
       "      <th>2006</th>\n",
       "      <td>saviour</td>\n",
       "      <td>6</td>\n",
       "      <td>moody</td>\n",
       "    </tr>\n",
       "    <tr>\n",
       "      <th>2014</th>\n",
       "      <td>grows</td>\n",
       "      <td>5</td>\n",
       "      <td>moody</td>\n",
       "    </tr>\n",
       "    <tr>\n",
       "      <th>2016</th>\n",
       "      <td>freely</td>\n",
       "      <td>5</td>\n",
       "      <td>moody</td>\n",
       "    </tr>\n",
       "    <tr>\n",
       "      <th>2018</th>\n",
       "      <td>completely</td>\n",
       "      <td>5</td>\n",
       "      <td>moody</td>\n",
       "    </tr>\n",
       "    <tr>\n",
       "      <th>2025</th>\n",
       "      <td>angry</td>\n",
       "      <td>5</td>\n",
       "      <td>moody</td>\n",
       "    </tr>\n",
       "    <tr>\n",
       "      <th>2036</th>\n",
       "      <td>sigh</td>\n",
       "      <td>5</td>\n",
       "      <td>moody</td>\n",
       "    </tr>\n",
       "  </tbody>\n",
       "</table>\n",
       "</div>"
      ],
      "text/plain": [
       "            word  word_count artist\n",
       "1704       22000          22  moody\n",
       "1753     timothy          16  moody\n",
       "1803     winters          12  moody\n",
       "1806       leary          12  moody\n",
       "1831     evening          11  moody\n",
       "1839     finding          11  moody\n",
       "1894      gently           8  moody\n",
       "1923  turnaround           7  moody\n",
       "1927    twilight           7  moody\n",
       "1931     wildest           7  moody\n",
       "1955      awhile           7  moody\n",
       "1981     lightly           6  moody\n",
       "1984       diary           6  moody\n",
       "2004      gentle           6  moody\n",
       "2006     saviour           6  moody\n",
       "2014       grows           5  moody\n",
       "2016      freely           5  moody\n",
       "2018  completely           5  moody\n",
       "2025       angry           5  moody\n",
       "2036        sigh           5  moody"
      ]
     },
     "execution_count": 27,
     "metadata": {},
     "output_type": "execute_result"
    }
   ],
   "source": [
    "all_unique_words[all_unique_words['artist'] == 'moody'].nlargest(n = 20, columns = 'word_count')"
   ]
  },
  {
   "attachments": {},
   "cell_type": "markdown",
   "metadata": {},
   "source": [
    "### Probably need to get rid of numerics in text? Moody Blues using 'slings' 16 times across one or more songs.  "
   ]
  },
  {
   "attachments": {},
   "cell_type": "markdown",
   "metadata": {},
   "source": [
    "# Data Preprocessing"
   ]
  },
  {
   "attachments": {},
   "cell_type": "markdown",
   "metadata": {},
   "source": [
    "#### Working way up in complexity for each NLP model. Bag of words, n-grams, transformer are three I will look at for now.\n",
    "#### Bag of words concerned with the frequency of vocabulary (indiv words) that occur in the artist's documents (indiv song lyrics/sentences) across all of the artists in our song corpus (collection of sentences). Order of the words and meaning are ignored."
   ]
  },
  {
   "cell_type": "markdown",
   "metadata": {},
   "source": [
    "### Going back to our original dataframe of all artists and their lyrics in sentence form to begin data preprocessing."
   ]
  },
  {
   "cell_type": "code",
   "execution_count": 28,
   "metadata": {},
   "outputs": [
    {
     "data": {
      "text/html": [
       "<div>\n",
       "<style scoped>\n",
       "    .dataframe tbody tr th:only-of-type {\n",
       "        vertical-align: middle;\n",
       "    }\n",
       "\n",
       "    .dataframe tbody tr th {\n",
       "        vertical-align: top;\n",
       "    }\n",
       "\n",
       "    .dataframe thead th {\n",
       "        text-align: right;\n",
       "    }\n",
       "</style>\n",
       "<table border=\"1\" class=\"dataframe\">\n",
       "  <thead>\n",
       "    <tr style=\"text-align: right;\">\n",
       "      <th></th>\n",
       "      <th>artist</th>\n",
       "      <th>song</th>\n",
       "      <th>lyrics</th>\n",
       "    </tr>\n",
       "  </thead>\n",
       "  <tbody>\n",
       "    <tr>\n",
       "      <th>145</th>\n",
       "      <td>Aerosmith</td>\n",
       "      <td>All Your Love</td>\n",
       "      <td>All your love I miss lovin'  \\r\\nAll your kiss...</td>\n",
       "    </tr>\n",
       "    <tr>\n",
       "      <th>149</th>\n",
       "      <td>Aerosmith</td>\n",
       "      <td>Eat The Rich</td>\n",
       "      <td>Well I woke up this morning  \\r\\nOn the wrong ...</td>\n",
       "    </tr>\n",
       "    <tr>\n",
       "      <th>151</th>\n",
       "      <td>Aerosmith</td>\n",
       "      <td>Fever</td>\n",
       "      <td>I got a rip in my shoes  \\r\\nAnd a hole in my ...</td>\n",
       "    </tr>\n",
       "    <tr>\n",
       "      <th>154</th>\n",
       "      <td>Aerosmith</td>\n",
       "      <td>I'm Ready</td>\n",
       "      <td>Well I'm ready.  \\r\\nAs ready as anybody can b...</td>\n",
       "    </tr>\n",
       "    <tr>\n",
       "      <th>155</th>\n",
       "      <td>Aerosmith</td>\n",
       "      <td>Janie's Got A Gun</td>\n",
       "      <td>Dum, dum, dum, honey what have you done  \\r\\nD...</td>\n",
       "    </tr>\n",
       "    <tr>\n",
       "      <th>...</th>\n",
       "      <td>...</td>\n",
       "      <td>...</td>\n",
       "      <td>...</td>\n",
       "    </tr>\n",
       "    <tr>\n",
       "      <th>56675</th>\n",
       "      <td>Wishbone Ash</td>\n",
       "      <td>Queen Of Torture</td>\n",
       "      <td>Has anybody seen my baby kickin' around the to...</td>\n",
       "    </tr>\n",
       "    <tr>\n",
       "      <th>56676</th>\n",
       "      <td>Wishbone Ash</td>\n",
       "      <td>Rainstorm</td>\n",
       "      <td>I'm amazed at the way you do,  \\r\\nYou do the ...</td>\n",
       "    </tr>\n",
       "    <tr>\n",
       "      <th>56677</th>\n",
       "      <td>Wishbone Ash</td>\n",
       "      <td>Renegade</td>\n",
       "      <td>I can't tell you, mother, why I feel this way....</td>\n",
       "    </tr>\n",
       "    <tr>\n",
       "      <th>56678</th>\n",
       "      <td>Wishbone Ash</td>\n",
       "      <td>Rest In Peace</td>\n",
       "      <td>Last night i had a dream  \\r\\nA vision in the ...</td>\n",
       "    </tr>\n",
       "    <tr>\n",
       "      <th>56679</th>\n",
       "      <td>Wishbone Ash</td>\n",
       "      <td>Right Or Wrong</td>\n",
       "      <td>Like to have you 'round  \\r\\nWith all the lies...</td>\n",
       "    </tr>\n",
       "  </tbody>\n",
       "</table>\n",
       "<p>512 rows × 3 columns</p>\n",
       "</div>"
      ],
      "text/plain": [
       "             artist               song  \\\n",
       "145       Aerosmith      All Your Love   \n",
       "149       Aerosmith       Eat The Rich   \n",
       "151       Aerosmith              Fever   \n",
       "154       Aerosmith          I'm Ready   \n",
       "155       Aerosmith  Janie's Got A Gun   \n",
       "...             ...                ...   \n",
       "56675  Wishbone Ash   Queen Of Torture   \n",
       "56676  Wishbone Ash          Rainstorm   \n",
       "56677  Wishbone Ash           Renegade   \n",
       "56678  Wishbone Ash      Rest In Peace   \n",
       "56679  Wishbone Ash     Right Or Wrong   \n",
       "\n",
       "                                                  lyrics  \n",
       "145    All your love I miss lovin'  \\r\\nAll your kiss...  \n",
       "149    Well I woke up this morning  \\r\\nOn the wrong ...  \n",
       "151    I got a rip in my shoes  \\r\\nAnd a hole in my ...  \n",
       "154    Well I'm ready.  \\r\\nAs ready as anybody can b...  \n",
       "155    Dum, dum, dum, honey what have you done  \\r\\nD...  \n",
       "...                                                  ...  \n",
       "56675  Has anybody seen my baby kickin' around the to...  \n",
       "56676  I'm amazed at the way you do,  \\r\\nYou do the ...  \n",
       "56677  I can't tell you, mother, why I feel this way....  \n",
       "56678  Last night i had a dream  \\r\\nA vision in the ...  \n",
       "56679  Like to have you 'round  \\r\\nWith all the lies...  \n",
       "\n",
       "[512 rows x 3 columns]"
      ]
     },
     "execution_count": 28,
     "metadata": {},
     "output_type": "execute_result"
    }
   ],
   "source": [
    "### Check original dataframe that was limited to our 5 artists. (semi-balances, good enough for our needs)\n",
    "songs_subset.columns = ['artist', 'song', 'lyrics'] # changing lyrics column quickly.\n",
    "songs_subset"
   ]
  },
  {
   "attachments": {},
   "cell_type": "markdown",
   "metadata": {},
   "source": [
    "### Need to clean up the text like we did in EDA. Will double check rough preprocessing steps used prior and include new ones like:\n",
    "#####    - Remove newline characters that is present in all of the lyrics.\n",
    "#####    - Remove numerics. (may be unnecessary after step 1)\n",
    "#####    - Convert to all lowercase characters.\n",
    "#####    - Remove stop words (apostrophes a problem last time)\n",
    "#####    - Remove all special characters left from removing digits etc.\n",
    "#####    - Remove extra repeatred whitespace if any left.\n",
    "#####    - Convert contractions to individual words.\n",
    "#####    - Removing all special characters (post fixing contractions, some not accounted for properly with 'contractions' package).\n",
    "#####    - Lemmatization (use the base words of various tenses like stopped/stopping = stop)\n",
    "#####    - Check word length after others, but should be fine once prior steps taken?    "
   ]
  },
  {
   "attachments": {},
   "cell_type": "markdown",
   "metadata": {},
   "source": [
    "### 1. Removing new line characters / unnecessary characters."
   ]
  },
  {
   "cell_type": "code",
   "execution_count": 29,
   "metadata": {},
   "outputs": [],
   "source": [
    "# Reindexing our dataset to tidy up.\n",
    "songs_subset = songs_subset.reset_index(drop = True)"
   ]
  },
  {
   "cell_type": "code",
   "execution_count": 30,
   "metadata": {},
   "outputs": [
    {
     "data": {
      "text/plain": [
       "\"All your love I miss lovin'  \\r\\nAll your kiss I miss kissin'  \\r\\nAll your love I miss lovin'  \\r\\nAll your kiss I miss kissin'  \\r\\n  \\r\\nEver since I left you baby, I never knew what I was missin'  \\r\\nAll your love I miss lovin'  \\r\\nAll your kiss I miss kissin'  \\r\\nAll your love I miss lovin'  \\r\\nAll your kiss I miss kissin'  \\r\\nEver since I left you baby, I never knew what I was missin'  \\r\\n  \\r\\nAll your lovin pretty baby  \\r\\nThat I had in store for you  \\r\\nAll your lovin pretty baby  \\r\\nThat I had in store for you-  \\r\\nWhat could a poor boy do?  \\r\\nAll your lovin pretty baby  \\r\\nAll your lovin pretty baby  \\r\\nAll your lovin pretty baby  \\r\\nWhat could a poor boy do?  \\r\\nAll your lovin pretty babay  \\r\\nAll your kissin is kissin  \\r\\nAll the lovin you gave me pretty babay  \\r\\nEver since I left you baby,  \\r\\nI never knew what I was missin' aaaah\\r\\n\\r\\n\""
      ]
     },
     "execution_count": 30,
     "metadata": {},
     "output_type": "execute_result"
    }
   ],
   "source": [
    "# Example of lyrics in our dataset to test on, check for newline breaks.\n",
    "test_lyrics = songs_subset\n",
    "test_lyrics['lyrics'][0]"
   ]
  },
  {
   "attachments": {},
   "cell_type": "markdown",
   "metadata": {},
   "source": [
    "#### Aiming to shortcut any extra cleanup that might result from removing backslashes first by trying to remoce entire str of '\\r\\n' for newlines."
   ]
  },
  {
   "cell_type": "code",
   "execution_count": 31,
   "metadata": {},
   "outputs": [],
   "source": [
    "# PASS TO FINAL CLEANING FUNCTION\n",
    "test_lyrics['lyrics'] = test_lyrics['lyrics'].str.replace('\\r\\n', '')"
   ]
  },
  {
   "attachments": {},
   "cell_type": "markdown",
   "metadata": {},
   "source": [
    "#### Looks to have cleaned up text properly for first instance, verifying with first 10 songs and then can use this method within function call."
   ]
  },
  {
   "cell_type": "code",
   "execution_count": 32,
   "metadata": {},
   "outputs": [
    {
     "name": "stdout",
     "output_type": "stream",
     "text": [
      "Well I woke up this morning  On the wrong side of the bed  And how I got to thinkin'  About all those things you said  About ordinary people  And how they make you sick  And if callin' names kicks back on you  Then I hope this does the trick  'cause I'm sick of your complainin'  About how many bills  And I'm sick of all your bitchin'  'Bout your poodles and your pills  And I just can't see no humor  About your way of life  And I think I can do more for you  With this here fork and knife  Eat the rich  There's only one thing that they are good for  Eat the rich  Take one bite now - come back for more  Eat the rich  I gotta get this off my chest  Eat the rich  Take one bite now - spit out the rest  So I called up my head shrinker  And I told him what I'd done  He said you best go on a diet  Yeah, I hope you have some fun  And a don't go burst the bubble  On rich folks who get rude  'Cause you won't get in no trouble  When you eats that kinda food  Now they're smokin' up their junk bonds  And then they go get stiff  And they're dancin' in the yacht club  With muff and uncle biff  But there's one good thing that happens  When you toss your pearls to swine  Their attitudes may taste like shit  But go real good with wine  Eat the rich  There's only one thing that they are good for  Eat the rich  Take one bite now - come back for more  Eat the rich  I gotta get this off my chest  Eat the rich  Take one bite now - spit out the rest  Believe in all the good things  That money just can't buy  Then you won't get no bellyache  From eatin' humble pie  I believe in rags to riches  Your inheritance won't last  So take your gray poupon my friend  And shove it up your ass  Eat the rich  There's only one thing that they are good for  Eat the rich  Take one bite now - come back for more  Eat the rich  I gotta get this off my chest  Eat the rich  Take one bite now - spit out the rest  Eat the rich  There's only one thing that they are good for  Eat the rich  Take one bite now - come back for more  Eat the rich  Don't stop me now, I'm goin' crazy  Eat the rich  That's my idea of a good time baby\n",
      "I got a rip in my shoes  And a hole in my brand new shoes  I got a Margarita nose  And a breath full of Mad Dog Booze  I got the fever, fever, fever, fever  Yeah, they threw me outta jail  I tell ya it ain't fair  I tried to kiss the judge  From the electrica' chair  Yeah we're all here  'Cause we're not all there tonight  The guitar's cranked  And the bass man's blown a fuse  And when the whole gang bangs  Then what is your excuse?  I got the fever, fever, fever, fever  Fever gives you lust with an appetite  It hits you like the fangs  From a rattlesnake bite  Yeah we're all here  'Cause we're not all there tonight  We can't run away from trouble  There ain't no place that far  But if we do it right at the speed of light  There's the backseat of my car - caviar  I was feelin' so high I forgot what day  Now I'm feeling low down  Even slow feels way to fast  And now the booze don't work  'Cause the drugs ran out of gas  I got the fever, fever, fever, fever  The buzz that you're gettin'  From the crack don't last  I'd rather be O.D.in' on the crack of her ass  Yeah we're all here  'Cause we're not all there tonight  My first time ever lover  We fell asleep out on the lawn  And when I woke up I was all alone  Making love to the crack of dawn  So yo, I beg yo pardon sir  The gangster of love rides again  You know I gotta chill  It gimme such a thrill  Like a burnin' plague  Yeah get outta my way  Fever may be Hell and a cross to bear  As long as I'm in heaven, honey I don't care  You look so good baby, look so fine  I tell you you're the image of a perfect crime  You get so tired holdin' on so tight  If you think you're goin' crazy  Well you may be right  Yeah we're all here  'Cause we're not all there tonight\n",
      "Well I'm ready.  As ready as anybody can be.  Well I'm ready.  As ready as anybody can be.  Well I'm ready for you.  I hope you're ready for me.    I got an out of town pistol with the graveyard frame.  It shoots tombstone bullets with a ball and chain.  I'm drinkin' TNT and smokin' dynomite.  I hope some schoolboy pick a fight.  Cause I'm ready.  As ready as anybody can be.  Well, I'm ready for you.  I hope you're ready for me.    Now listen    All you pretty little chicks with your curly hair,  I know you feel like I ain't nowhere.  But stop what you're doing honey, come over here.  I'll prove it to you baby that I ain't no square.  Cause I'm ready.  As ready as anybody can be.  Well, I'm ready for you.  I hope you're ready for me.    Well I'm drinkin' gin like never before.  I'm feelin' so good honey that's for sure.  One more drink honey I wish you would.  It takes a whole lotta lovin' to make me feel good.  Cause I'm ready.  As ready as anybody can be.  Well I'm ready for you.  I hope you're ready for, a ready for, a ready for  Well, I'm ready for  Oh baby, you know I'm ready for you.\n",
      "Dum, dum, dum, honey what have you done  Dum, dum, dum, it's the sound of my gun  Dum, dum, dum, honey what have you done  Dum, dum, dum, it's the sound, it's the sound...  Nah, nah, nah...nah, nah, nah...  Nah, nah, nah...nah, nah, nah...    Janie's got a gun  Janie's got a gun  Her whole world's come undone  From lookin' straight at the sun    What did her daddy do  What did he put you through  They say when Janie was arrested  They found him underneath a train  But man, he had it comin'  Now that Janie's got a gun  She ain't never gonna be the same    Janie's got a gun  Janie's got a gun  Her dog day's just begun  Now everybody is on the run    Tell me now it's untrue  What did her daddy do  He jacked the little bitty baby  The man has got to be insane  They say the spell that he was under  The lightnin' and the thunder  Knew that someone had to stop the pain    Run away, run away from the pain  Yeah, yeah, yeah, yeah, yeah  Run away, run away from the pain  Yeah, yeah, yeah, yeah, yeah  Run away, run away, run, run away    Janie's got a gun  Janie's got a gun  Her dog day's just begun  Now everybody is on the run    What did her daddy do  It's Janie's last I.O.U.  She had to take him down easy  And put a bullet in his brain  She said 'cause nobody believes me  The man was such a sleaze  He ain't never gonna be the same    Run away, run away from the pain  Yeah, yeah, yeah, yeah, yeah  Run away, run away, run, run away  Yeah, yeah, yeah, yeah, yeah, yeah, yeah  Run away, run away, run, run away    Janie's got a gun  Janie's got a gun  Janie's got a gun  Everybody is on the run  Janie's got a gun  Her dog day's just begun    Now everybody is on the run (Honey, honey what's your problem)  'Cause Janie's got a gun (Tell me it ain't right)  Janie's got a gun (Was it daddy's cradle robbin')  Her dog day's just begun (That made you scream at night)  Now everybody's on the run  Janie's got a gun    Janie's got a gun  Her dog day's just begun\n",
      "Ruby red... her lips were on fire  A do me with a kiss, if you please  Tell me what your sweet heart desires  Tell me how you want it to be    'Cause if it's love you want  Then you won't mind a little tenderness  That sometimes is so hard to find    (Lay it down)  Lay it down  Make it alright  (Lay it down)  Lay it down  I'll hold you so tight  (Lay it down)  Oh...before the morning light  It's gonna be alright    Oh...lay it down  Come and lay it down tonight    Tell me how you feel when we make love  Tell me is it real or just make believe  You will never know what'chor made of  'Til you open up your heart to receive  'Cause if the love you got that same old crime  We're talkin' tenderness that's so hard to find  And I'm gettin' behind you    (Lay it down)  Lay it down  Make it alright  (Lay it down)  A lay it down  I'll hold you so tight  (Lay it down)  Yeah... before the morning light  It's gonna be alright    Oh...lay it down  Come and lay it down tonight    Do you remember them times talkin' in your sleep  With a pocket full of promises you never could keep  From your best friends lover you dreamt about then  When you pullin' up the covers the voices in your head    Say if you want it bad  Don't ever let it slip away    'Cause if it's love you want and tenderness...yeah    (Lay it down)  Lay it down  Make it alright  (Lay it down)  Lay it down  I'll hold you so tight  (Lay it down)    Oh... before the morning light  It's gonna be alright    Oh...lay it down  Gonna lay it down tonight  Gonna come around tonight  You gotta lay it down\n",
      "Workin' like a dog fo de boss man  Workin' for de company  I'm bettin' on the dice I'm tossin'  I'm gonna have a fantasy  But where am I gonna look?  They tell me that love is blind  I really need a girl like an open book  To read between the lines    [Chorus]  Love in an elevator  Livin' it up when I'm goin' down  Love in an elevator  Lovin' it up till I hit the ground    Jacki's in the elevator  Lingerie second floor  She said 'can I see you later  And love you just a little more?'  I kinda hope we get stuck  Nobody gets out alive  She said I'll show ya how to fax in the mail room  Honey and have you home by five    [Chorus]    In the air, in the air, honey one more time not, it ain't fair  Love in an elevator  Lovin' it up when I'm goin' down    Love in an  Elevator  Goin' down    [Chorus]    Gonna be a penthouse pauper  Gonna be a millionaire  I'm gonna be a real fast talker  And have me a love affair  Gotta get my timin' right  It's a test that I gotta pass  I'll chase you all the way to the stairway honey  Kiss your sassafras    [Chorus]    Do you care? Do you care?  Honey one more time now it ain't fair.  Love in an elevator  Livin' it up when I'm goin' down\n",
      "Somebody better call a doctor, doctor  Or wake me up with a shove  I'm gonna knock you off your rocker, rocker  'Cause I think I'm in love  I tried to get a message to ya  But you walked the other way  I need your magic touch, don't you know  I've got a habit and I can't let go  Feel the fire burnin' slow  You better get it while it's hot now babe  'Cause I can't let go  Don't need no wedding with a shotgun, shotgun  So don't you push me too far  Don't try to take me for a fool child, who child  Do you think that you are  You really got it coming to ya  It's gonna come as no surprise  I need your magic touch, don't you know  I'm after you and now I can't let go  Take it easy, take it slow  You better get it while it's hot now babe  'Cause I can't let go  You never know what you got  Till they take it away  I'm comin' ready or not  Gonna get you some day  I need your magic touch, don't you know  I'm after you and now I can't let go  Feel the fire, burnin' slow  I got a habit and I'm back for more  Your magic touch, don't you know  I'm after you and now I can't let go  Feel the fire, burnin' slow  You better get it while it's hot now babe  'Cause I can't, can't, can't let you go\n",
      "It ain't easy, livin' like a gypsy.  Tell ya, honey, how I feel.  I've been dreaming,  Floatin' down stream and  Losin' touch with all that is real.  Whole earth lover, keepin' under cover  Never knowin' where ya been.  You've been fadin', always out paradin'.  Keepin' touch with Mama Kin.    Well you've always got your tail on the wag.  Shootin' fire from your mouth just like a dragon.  You act like a perpetual drag.  You better check it out,  Or someday soon you'll have to climb back on the wagon.    It ain't easy, livin' like ya want to,  And it's so hard to find piece of mind. Yes it is.  The way I see it, you've got to say shit.  But don't forget to drop me a line.    Said you're as bald as an egg at eighteen.  And workin' for you dad is just a drag.  He still stuffs your mouth with your dreams.  You better check it out,  Or someday soon you'll have to climb back on the wagon.    Keepin' touch with Mama Kin.  Tell her where you've gone and been.  Livin' out your fantasy,  Sleeping late and smoking tea.    Keepin' touch with Mama Kin.  Tell her where you've gone and been.  Livin' out your fantasy,  Sleeping late and smoking tea.    It ain't easy, livin' like ya want to,  And it's so hard to find piece of mind. Yes it is.\n",
      "The streets were cold and barren  The nights were dark and dank  And the sky, hadn't had a rain cloud in it for 25 years....  The buildings were dead and the alleys  Stunk from things that used to live there  Ahhh that wasn't the city I remembered    A Child in the street, barefoot pullin' at his  Mama's tattered coattails: like a rat dogs existence  With not a scrap left on the plate  And so much like a fable, their lives so unstable  Cause the only thing left was their faith  And there sure as hell ain't much I can do  About it....    There's a Meltdown in the sky  There's a new day comin' and I don't know why  There's a fear that gets me high  And the cold night numbs as the Jet Black clouds roll on by....    So sad was the scene that my eyes did behold  Made me wonder just who was the foe  And was it all to come true what Nostradamus  Had predicted such a long long time ago?  You could hear screams and moanin'  From the people atoning  For their sins of a guilt ridden life  And the final door shuts  From the wind that leaves cuts  From the edge on the blade of God's knife  And there sure as hell ain't much I can do about....    There's a Melt Down in the Sky  There's a new day comin and I don't know why  There's a tear stuck in my eye  There's a new day comin' and I don't know why    Battle lines had been drawn  Mother nature how she cried  By her side, till the dawn  Couldn't kill her if they tried  How they tried, open eyed, genocide  Then... She died    Battle lines had been drawn  Mother nature how she cried  By her side, till the dawn  Couldn't kill her if they tried  How they tried, open eyed, genocide  Then... She died    There's a Meltdown in the sky  There's a new day comin' and I don't know why  There's a fear that gets me high  And the cold night numbs as the Jet Black clouds roll on by....\n"
     ]
    }
   ],
   "source": [
    "for i in range (1,10):\n",
    "    print(test_lyrics['lyrics'][i])"
   ]
  },
  {
   "attachments": {},
   "cell_type": "markdown",
   "metadata": {},
   "source": [
    "#### Need to remove '[Chorus]' from multiple lyrics"
   ]
  },
  {
   "attachments": {},
   "cell_type": "markdown",
   "metadata": {},
   "source": [
    "### 2. Removing numbers from songs."
   ]
  },
  {
   "attachments": {},
   "cell_type": "markdown",
   "metadata": {},
   "source": [
    "Need to find song lyrics with numbers in them and then test that removal is working properly."
   ]
  },
  {
   "cell_type": "code",
   "execution_count": 33,
   "metadata": {},
   "outputs": [
    {
     "data": {
      "text/html": [
       "<div>\n",
       "<style scoped>\n",
       "    .dataframe tbody tr th:only-of-type {\n",
       "        vertical-align: middle;\n",
       "    }\n",
       "\n",
       "    .dataframe tbody tr th {\n",
       "        vertical-align: top;\n",
       "    }\n",
       "\n",
       "    .dataframe thead th {\n",
       "        text-align: right;\n",
       "    }\n",
       "</style>\n",
       "<table border=\"1\" class=\"dataframe\">\n",
       "  <thead>\n",
       "    <tr style=\"text-align: right;\">\n",
       "      <th></th>\n",
       "      <th>artist</th>\n",
       "      <th>song</th>\n",
       "      <th>lyrics</th>\n",
       "    </tr>\n",
       "  </thead>\n",
       "  <tbody>\n",
       "    <tr>\n",
       "      <th>9</th>\n",
       "      <td>Aerosmith</td>\n",
       "      <td>Melt Down</td>\n",
       "      <td>The streets were cold and barren  The nights w...</td>\n",
       "    </tr>\n",
       "    <tr>\n",
       "      <th>21</th>\n",
       "      <td>Aerosmith</td>\n",
       "      <td>Rocket 88</td>\n",
       "      <td>Yea I think I know  I really hate it when it g...</td>\n",
       "    </tr>\n",
       "    <tr>\n",
       "      <th>35</th>\n",
       "      <td>Aerosmith</td>\n",
       "      <td>Temperature</td>\n",
       "      <td>My baby gimme high temperature.  My baby gimme...</td>\n",
       "    </tr>\n",
       "    <tr>\n",
       "      <th>40</th>\n",
       "      <td>Aerosmith</td>\n",
       "      <td>The Reason A Dog</td>\n",
       "      <td>You keep knockin' but you can't come in  The w...</td>\n",
       "    </tr>\n",
       "    <tr>\n",
       "      <th>54</th>\n",
       "      <td>Fall Out Boy</td>\n",
       "      <td>Our Lawyer Made Us Change The Name Of This Son...</td>\n",
       "      <td>Brothers and sisters put this record down  Tak...</td>\n",
       "    </tr>\n",
       "  </tbody>\n",
       "</table>\n",
       "</div>"
      ],
      "text/plain": [
       "          artist                                               song  \\\n",
       "9      Aerosmith                                          Melt Down   \n",
       "21     Aerosmith                                          Rocket 88   \n",
       "35     Aerosmith                                        Temperature   \n",
       "40     Aerosmith                                   The Reason A Dog   \n",
       "54  Fall Out Boy  Our Lawyer Made Us Change The Name Of This Son...   \n",
       "\n",
       "                                               lyrics  \n",
       "9   The streets were cold and barren  The nights w...  \n",
       "21  Yea I think I know  I really hate it when it g...  \n",
       "35  My baby gimme high temperature.  My baby gimme...  \n",
       "40  You keep knockin' but you can't come in  The w...  \n",
       "54  Brothers and sisters put this record down  Tak...  "
      ]
     },
     "execution_count": 33,
     "metadata": {},
     "output_type": "execute_result"
    }
   ],
   "source": [
    "# Useful tip found in pandas docs on using '\\\\d' for any digits contained.\n",
    "# Do not need to explicitly set regex to True here.\n",
    "test_lyrics[test_lyrics['lyrics'].str.contains('\\\\d', regex= True)].head(5)"
   ]
  },
  {
   "attachments": {},
   "cell_type": "markdown",
   "metadata": {},
   "source": [
    "#### Will use one of these songs via the index to verify later on."
   ]
  },
  {
   "attachments": {},
   "cell_type": "markdown",
   "metadata": {},
   "source": [
    "#### Removing any digits within the songs. Unclear if this will lead to commas popping up in random places yet, but will need to remove regardless."
   ]
  },
  {
   "cell_type": "code",
   "execution_count": 34,
   "metadata": {},
   "outputs": [],
   "source": [
    "# Using replace and regex of matching to any digits with the previous steps. \n",
    "test_lyrics['lyrics'] = test_lyrics['lyrics'].str.replace('\\\\d', '', regex = True)"
   ]
  },
  {
   "attachments": {},
   "cell_type": "markdown",
   "metadata": {},
   "source": [
    "#### Digits removed from one sample from our previous identification, will verify with others later, adn then include in overall function."
   ]
  },
  {
   "attachments": {},
   "cell_type": "markdown",
   "metadata": {},
   "source": [
    "### 3. Convert all characters to lowercase. "
   ]
  },
  {
   "attachments": {},
   "cell_type": "markdown",
   "metadata": {},
   "source": [
    "#### Should be straightforward using .lower()?"
   ]
  },
  {
   "cell_type": "code",
   "execution_count": 35,
   "metadata": {},
   "outputs": [],
   "source": [
    "test_lyrics['lyrics'] = test_lyrics['lyrics'].str.lower()"
   ]
  },
  {
   "attachments": {},
   "cell_type": "markdown",
   "metadata": {},
   "source": [
    "#### Looks to work with sample, will confirm all later with raiseExceptions in function call. "
   ]
  },
  {
   "attachments": {},
   "cell_type": "markdown",
   "metadata": {},
   "source": [
    "### 4. Removing stop words using the NLTK library. Lowercase is needed first based on EDA steps we performed."
   ]
  },
  {
   "cell_type": "code",
   "execution_count": 36,
   "metadata": {},
   "outputs": [],
   "source": [
    "# Dead code for imports so I dont forget to include at top level of final function.\n",
    "# import nltk\n",
    "# from nltk.corpus import stopwords\n",
    "# nltk.download('stopwords')\n",
    "\n",
    "# Assigning stop words as obj for use later.\n",
    "stop_words = set(stopwords.words('english'))\n",
    "\n",
    "# List comprehension for use with Pandas dataframe columns comparing to stop_words list?? \n",
    "# Prior to using list comprehension need to have a list seperated, or use one as intermediary to list comprhension. \n",
    "# Using .split() and .join() to achieve same thing here, since the lyrics are one long str without seperators. \n",
    "test_lyrics['lyrics'] = test_lyrics['lyrics'].apply(lambda words: ' '.join([word for word in words.split() if word not in stop_words]))"
   ]
  },
  {
   "attachments": {},
   "cell_type": "markdown",
   "metadata": {},
   "source": [
    "#### Looks to have removed stopwords like 'i'. Will verify all later on in main clean function."
   ]
  },
  {
   "attachments": {},
   "cell_type": "markdown",
   "metadata": {},
   "source": [
    "### Not clear on the contractions at this point and will wait until later on, but one article on Medium ' Dealing with contractions in NLP' -Lukei recommends the 'contractions' library.  "
   ]
  },
  {
   "attachments": {},
   "cell_type": "markdown",
   "metadata": {},
   "source": [
    "### 5. Removing special characters. "
   ]
  },
  {
   "attachments": {},
   "cell_type": "markdown",
   "metadata": {},
   "source": [
    "#### Need to keep the apostrophes in the words that have contractions so I can use the contractions preprocessing package later on. For now we can get rid of commas etc."
   ]
  },
  {
   "cell_type": "code",
   "execution_count": 37,
   "metadata": {},
   "outputs": [],
   "source": [
    "# Goign to leave any matching apostrophes at end of text or on their own. Regex and replace to perform. \n",
    "test_lyrics['lyrics'] = test_lyrics['lyrics'].str.replace(\"'\\B|[^a-z'? ]\", ' ', regex = True)"
   ]
  },
  {
   "attachments": {},
   "cell_type": "markdown",
   "metadata": {},
   "source": [
    "#### Ran into some funky regex errors but working now, all special characters removed (this would also remove capitals in words but doesnt matter post .lower()) except for the words that have them inbetween characters aka contractions we want to keep for later. "
   ]
  },
  {
   "attachments": {},
   "cell_type": "markdown",
   "metadata": {},
   "source": [
    "### 6. Removing extra spaces. "
   ]
  },
  {
   "attachments": {},
   "cell_type": "markdown",
   "metadata": {},
   "source": [
    "#### Easiest method probably regex again. "
   ]
  },
  {
   "cell_type": "code",
   "execution_count": 38,
   "metadata": {},
   "outputs": [],
   "source": [
    "# Removing with regex for repeating whitespace. \n",
    "test_lyrics['lyrics'] = test_lyrics['lyrics'].replace(r'\\s+', ' ', regex = True)"
   ]
  },
  {
   "attachments": {},
   "cell_type": "markdown",
   "metadata": {},
   "source": [
    "### 7. Convert contractions to individual words."
   ]
  },
  {
   "attachments": {},
   "cell_type": "markdown",
   "metadata": {},
   "source": [
    "#### Will be using the 'contractions' library, pycontractions looked good too but maintenance score on Snyk.io is not as good."
   ]
  },
  {
   "cell_type": "code",
   "execution_count": 39,
   "metadata": {},
   "outputs": [],
   "source": [
    "# Import contractions library.test_lyrics\n",
    "import contractions\n",
    "\n",
    "# List the contractions .fix() function on the text to see if easy fix rather than lambda and list comprhension.\n",
    "# test_lyrics['lyrics_contractions'] = contractions.fix(test_lyrics['lyrics'])\n",
    "\n",
    "# Troubleshooting contractions errors.\n",
    "# test_text = test_lyrics['lyrics'][2]\n",
    "# contractions.fix(test_text)\n",
    "\n",
    "# .Fix() working on samples of test data, possibly dataframe input as the issue? Update: Yes should have used .apply() for this instead of calling on entire dataframe column.\n",
    "test_lyrics['lyrics'] = test_lyrics['lyrics'].apply(lambda words: contractions.fix(words))"
   ]
  },
  {
   "attachments": {},
   "cell_type": "markdown",
   "metadata": {},
   "source": [
    "#### Not sure if this truly fixed all contractions in there or not, samples look OK. UPDATE: Will now remove all special characters since contractions package missed some."
   ]
  },
  {
   "attachments": {},
   "cell_type": "markdown",
   "metadata": {},
   "source": [
    "### 8. Remove remaining special characters (post contractions seperated, some apostrophes left)"
   ]
  },
  {
   "cell_type": "code",
   "execution_count": 40,
   "metadata": {},
   "outputs": [],
   "source": [
    "# Using .replace() instead of regex to get rid of all leftover apostrophes (known case). \n",
    "test_lyrics['lyrics'] = test_lyrics['lyrics'].str.replace(\"'\", \"\")"
   ]
  },
  {
   "attachments": {},
   "cell_type": "markdown",
   "metadata": {},
   "source": [
    "#### Apostrophes removed, samples look OK."
   ]
  },
  {
   "attachments": {},
   "cell_type": "markdown",
   "metadata": {},
   "source": [
    "### 9. Lemmatization "
   ]
  },
  {
   "attachments": {},
   "cell_type": "markdown",
   "metadata": {},
   "source": [
    "#### Will look into best library for this, some recommendations below:"
   ]
  },
  {
   "attachments": {},
   "cell_type": "markdown",
   "metadata": {},
   "source": [
    " - WordNet\n",
    " - TextBlob\n",
    " - spaCy\n",
    " - TreeTagger\n",
    " - Pattern\n",
    " - Gensim\n",
    " - Stanford CoreNLP"
   ]
  },
  {
   "cell_type": "code",
   "execution_count": null,
   "metadata": {},
   "outputs": [],
   "source": []
  },
  {
   "cell_type": "code",
   "execution_count": null,
   "metadata": {},
   "outputs": [],
   "source": []
  },
  {
   "cell_type": "code",
   "execution_count": null,
   "metadata": {},
   "outputs": [],
   "source": []
  },
  {
   "cell_type": "code",
   "execution_count": null,
   "metadata": {},
   "outputs": [],
   "source": []
  },
  {
   "cell_type": "code",
   "execution_count": 41,
   "metadata": {},
   "outputs": [
    {
     "name": "stdout",
     "output_type": "stream",
     "text": [
      "\"goin under rats cellar goin under skins turnin yellow nose runny losin connection losin money getting affection new york city blues east side west side lose throw slam catch believe wearing tearing apart safe complaining because everythings rotten go insanin are not thing forgotten feelin cozy rats cellar cheeks rosy skins turning yellow loose soggy lookin mighty lazy super party pushin a daisies new york city schools east side west side lose throw slam catch believe wearing tearing apart\"\n",
      "\"yea think know really hate gets slow got to try keep amused love way rocket purrs like best see blurs got to love watch light fuse lookin back yesterday got thing blow us away need navigate come ride rocket call chump change think because got sumpn one else got look like are not protege nuclear rocket well get darkside moon leave little somthin dune home ten going to wait because got rocket light years honey that is far we will go let us fire watch rockets glow gee suit g spot gee really must admit got rocket honey wall come watch earth get small swear never come like face i will rub nose outer space turn red hot fireball\"\n",
      "\"get cooler lay low coincidental murder nothing show judges constipation go head wifes aggravation soon enough dead old story old song dance friend old story old song dance friend gotcha cocaine found gun smoothy face lawyer getcha undone say love are not south side town could look are not going to find around old story old song dance friend old story old story old song dance fate comes a knockin doors start lockin old time connection change direction are not going to change it cannot rearrange cannot stand pain you friend low dirty walkin street old hurdy gurdy one meet say love are not same south side town could look are not going to find around old story old song dance friend old story old story old song dance\"\n",
      "\"city boy caught city way nitty gritty boy night always gettin blown away chorus are not breeze cool heat love city girl responsibility pretty little city girl fired what is got chorus clear sunrise sedona that is blowin wind fire eyes tear cries heat fall knees yeah i am thinkin chorus clear sunrise sedona that is blowin wind fire eyes tear cries heat fall knees i am thinkin chorus \"\n",
      "\"shame shame shame miss roxy shame shame shame miss roxy shame shame shame done yeah made sweaty talkin skin bones because lovers grief oh look shame shame shame miss roxy that is right shame shame shame miss roxy shame shame shame done know ya done want to butt want to want to hey hey hey hey yeah well offered dice gavthem touchin hymn game broke loose oh reason shame shame shame miss roxy yeah shame shame shame miss roxy shame shame shame done hey hey hey hey talkin back well tell plan oughta eat words knees shame shame shame miss roxy yeah yeah yeah yeah shame shame shame miss roxy shame shame shame done well shame shame shame miss roxy shame shame shame shame shame shame shame shame shame you shame done yeah shame shame shame done yeah yeah yeah\"\n",
      "\"oooh fire oooh fire hot trot bit insane little bit pleasure little bit pain got smokin know without doubt there is smoke there is fire got to boot say oooh fire oooh fire homely child hang lip starved love companionship little little catchin woman thought she would me yeah hungry girl skinniest thing sayin word i am losin sting ? fire hung head guillotine flame wettin dream fire oooh fire oooh fire oooh fire oooh fire\"\n",
      "\"talk cheap shut dance get deep shut dance love got weight around lend hand peace earth here is piece what is worth yea right cannot define crime life are not worth dime take away everything got rub nose funky spot without fight work fingers bone get you nothing crowd people still alone hope tells something road heaven paved hell makes wonder check shape circumstance wears dress wears pants comes jill needs romance cannot jack shut dance sex like gun aim shoot run splittin hairs mr clean it like gettin head guillotine night begun talk cheap shut dance get deep shut dance\"\n",
      "\"please got talk please well keep head loo please we are long long way home please turn young mans face stone chorus sick dog what is story sick dog cat got tongue sick dog sorry sick dog because really are not young please much surprise please lady disguise please friend got please last see rot please shame refined please last thing mind please late take light please going to bay night say goodnight\"\n",
      "\"need lady somebody shady need someone close somebody cozy somebody nosey help see whole day someone share load somebody walk road live on live good lord send me good lord mend send someone said choosy could send floosy send anybody please somebody say somebody still somebody some somebody send somebody yeah somebody send somebody send somebody well call somebody scream loud bloody call woman woman come save tomorrow share sorrow misery enjoys company yes does yes\"\n",
      "\"making wait like there is tomorrow taking cannot beg borrow there is something tells life changed there is something tells game there is something tells hit floor there is something tells got everything need want know dreams corner made dollar gave quarter there is something tells life changed there is something tells game there is something tells hit floor there is something tells got everything need want yeah yeah there is something tells life changed there is something tells game there is something tells hit floor there is something tells got everything need want\"\n",
      "\"hear people talking man there is much talking trash enough love believe rainbows got to make clear told everyone know idea love life keeper head heels we are falling deeper got feeling time maybe got something mind baby take sunny side love that is right belong take sunny side love one kind girl cannot get enough needle haystack diamond rough perfect imperfections know got right loving day long keeps night doubt it rhymes reason we are talking love yeah kind know want kiss know ought yeah cannot miss know got take sunny side love that is right belong take sunny side love know take long take sunny side love love life keeper head heels we are falling deeper got feeling time maybe got something mind baby take sunny side love that is right belong take sunny side love know take long take sunny side love yeah take sunny side love\"\n",
      "\"sold soul one night stand followed alice wonderland ate mushroom danced queen yeah danced lines followed daylight right dark took hatter like walk park met yeah felt right child night yeah called sunshine kind everybody knows yeah yeah sunshine finer painted rose yeah yeah sunshine yeah kind loves adore kind trouble kind of heaven lies hells back door got need cuz need sunshine kind everybody knows yeah yeah sunshine finer painted rose yeah yeah sunshine yeah fffff i got karma come free i will chase rabbit booty tree caterpillars tryin cop plea smoke are not got nothin ya got to sunshine kind everybody knows yeah yeah sunshine finer painted rose yeah yeah sunshine kind everybody knows yeah yeah sunshine finer painted rose yeah yeah sunshine sunshine yeah\"\n",
      "\"sweet emotion sweet emotion talk things nobody cares wearing things nobody wears calling name got to make clear cannot say baby i will year yeah yeah yeah yeah sweet hog mama face like gent said get go must have got went well got good news real good liar because backstage boogie set pants fire yeah yeah yeah yeah yeah yeah yeah yeah yeah yeah yeah yeah sweet emotion sweet emotion pulled town police car daddy said took little far telling things girlfriend lied cannot catch because rabbit done died yes stand front shakin ass i will take backstage drink glass telling things sure understand because month road an i will eating hand\"\n",
      "\"everybody talkin bout are not kind of house kind of paint everybody seems steppin time much fast got to remind ya ooooo got to take easy ooooo got to take easy old kind of feelings saturday nights god i am afraid n got to pull stops everybody seems marchin time much fast got to remind ya ooooo got to take easy ooooo got to take easy yeah new kid smokin bar tonight pullin peace pipe sit got to get ass because gettin fat ooooo got to take easy ooooo got to take easy ooooo got to take easy ooooo got to take easy sweepin tombs paranoid yups later hop stores clean cups everybodys livin middle line much much got to remind ya ooooo better take easy ooooo better take easy ooooo better take easy do got to take easy got to got to take easy got to got to take easy got to take ea ooooo got to take easy got to take easy ooooo got to take it got to take got to take it got to take old kind of feelings saturday nights god i am afraid got to pull stops everybody seems marchin time much fast got to remind ooooo got to take easy\"\n",
      "\"god love sweet taste india lingers tip tongue got to love sweet taste india blame beat drum god love sweet taste india lingers tip tongue got to know what is gotten cat man done yeah got kind love incense lives back room mixes funk friend turns perfume born afraid darkness afraid light i am afraid dance shadow time i am going to get right think i will get tonight lookin little taste a taste india she will steal smile right face yin yang thing unpredictable friend god love sweet taste india lingers tip tongue got to know what is gotten cat man done like first taste love vindaloo sets heart fire let stuff get desire make love sweet tantric priestess drink bliss delight i am afraid dance shadow time i am going to get right going to wake appetite lookin little taste a taste india she will steal smile right face friend mine concubine sweetest wine got to make mine god love sweet taste india lingers tip tongue got to love sweet taste india blame beat drum god love sweet taste india lingers tip tongue got to know what is gotten cat man done think i will get tonight going to wake appetite lookin little taste a taste india she will steal smile right face yow yow \"\n",
      "\"baby give me high temperature baby give me high temperature kiss dance midnight romance get hot stay alive baby give me high temperature baby give me high temperature see coming street fever giver high beat get hot stay alive baby give me high temperature baby give me high temperature false alarm temperature hold arms get hot stay alive \"\n",
      "\" it is place get boat train it is far far away charlie i feeling we are kansas anymore oaahh there is cockroach coffee there is needle arm feel like new york city get farm get farm get farm get farm somebody get farm got terminal uniqueness i am egocentric man get caught freakness are not peter pan get farm get farm get farm get farm get me buckle straightjack insanity drag jellybean thorazine transcendental jet lag sanity are not going to feeling like pifiata sucker punch blow lunch mother load pigeonhole i am feeling like i am going to explode yeah want to shave head want to hare krishna tattoo dot right head heh heh prozac fixer living dead follow yellow brick road follow yellow brick road take farm take farm somebody get farm somebody take farm take farm take farm somebody take farm somebody take farm take farm take farm take farm buckle straightjack insanity drag jellybean thorazine transcendental jet lag sanity are not going to feeling like pifiata sucker punch blow lunch motherload pigeonhole i am feeling like i am going to explode yeah want to shave head want to hare krishna tattoo dot right head heh heh prozac fixer living dead take farm take farm somebody get farm wake up honey then i am sure get brain uh huh \"\n",
      "\"doctor doctor doctor please doctor doctor please doctor doctor doctor feel like old disease doctor doctor doctor get sweet ass floor doctor doctor doctor cannot refuse loose hearted lady anymore scream name crowd feel flame are not proud maybe attitude are not right that is left bite hand feeds feeds doctor doctor doctor doctor doctor please things put hell want things uncle john needs are not dog bites hand feeds middle of spittle et tu like birds feather another day love another way push shove make love play never never never ever never ever never ever na na na na na doctor doctor doctor please a what doctor doctor doctor would please give life hand things put hell want things uncle john needs are not dog bites hand feeds me yeah doctor doctor doctor please doctor doctor please doctor doctor doctor doctor doctor doctor doctor doctor doctor doctor doctor doctor doctor doctor doctor doctor doctor doctor \"\n",
      "\"thinkin bout night life ladies powder room brothers like howlin wolf light silvery moon joeys like pavlos dog starts salivate hardly man hard shake rattle snake me got brand new babe know something are not right say yeah yeah cannot stop rockin tonight hangin shopping mall watchman full sash leave smile outside door because kids kicking ass old boot heels smokin really got understand we are burning town tonight new shit hits fan me got brand new babe know something are not right say yeah yeah cannot stop rockin tonight yeah yeah cannot stop rockin tonight lyin back tonight watch moon eclipse maybe eatin tonight ya are not leavin tips best watch because kickin ass tonight boys aerosmith\"\n",
      "\"come lovin got take side like devil deep blue sea take side forget foolish pride take side oh take side take side mama told there would days like man foolin because cannot believe way kiss uh huh opened mouth baited breath said never leave love me hate me tried take loss cryin river got get across lovin got take side like devil deep blue sea take side forget foolish pride take side oh take side take side i am lookin another kind love oh lordy need kind likes leap without shove oh honey best believe save lot time foolish pride i will say what is mind girl loved me hate me cut size blinded love yeah opened eyes lovin got take side like devil deep blue sea take side conscience got guide take side oh honey take me take take take take take ow take side i am lookin another kind love oh lordy need kind likes leap without shove honey best believe are not one sayin long goodbyes hope forgiven loved me hate me used lover know comin girl take side take side take side lovin got take side like devil deep blue sea take side conscience got guide take side oh honey take side take side lovin got take side like devil deep blue sea take side forget foolish pride take side honey take take take take side take side take side \"\n"
     ]
    }
   ],
   "source": [
    "for i in range(20,40):\n",
    "    print('\"'+ test_lyrics['lyrics'][i] + '\"')"
   ]
  },
  {
   "attachments": {},
   "cell_type": "markdown",
   "metadata": {},
   "source": [
    "#### Might want to remove repeated words in here?? This would impact BagofWords and may not help NGram either. "
   ]
  },
  {
   "attachments": {},
   "cell_type": "markdown",
   "metadata": {},
   "source": [
    "#### Also may want to remove words less than 2 characters like we had in EDA. /"
   ]
  },
  {
   "attachments": {},
   "cell_type": "markdown",
   "metadata": {},
   "source": [
    "#### Still need to remove question marks in some lyrics."
   ]
  },
  {
   "attachments": {},
   "cell_type": "markdown",
   "metadata": {},
   "source": [
    "### Need to move the step of stop words to post contraction cleaning when creating the main cleaning function."
   ]
  },
  {
   "cell_type": "markdown",
   "metadata": {},
   "source": []
  }
 ],
 "metadata": {
  "kernelspec": {
   "display_name": "Python 3.9.13 ('base')",
   "language": "python",
   "name": "python3"
  },
  "language_info": {
   "codemirror_mode": {
    "name": "ipython",
    "version": 3
   },
   "file_extension": ".py",
   "mimetype": "text/x-python",
   "name": "python",
   "nbconvert_exporter": "python",
   "pygments_lexer": "ipython3",
   "version": "3.9.13"
  },
  "orig_nbformat": 4,
  "vscode": {
   "interpreter": {
    "hash": "f0a3566b635da21eefbdf76faee565de75dcada067b1e31597c75d8b06a600e2"
   }
  }
 },
 "nbformat": 4,
 "nbformat_minor": 2
}
